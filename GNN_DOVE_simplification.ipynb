{
  "nbformat": 4,
  "nbformat_minor": 0,
  "metadata": {
    "colab": {
      "provenance": [],
      "authorship_tag": "ABX9TyM1IXEInnWdO6mIxS36dwZi",
      "include_colab_link": true
    },
    "kernelspec": {
      "name": "python3",
      "display_name": "Python 3"
    },
    "language_info": {
      "name": "python"
    }
  },
  "cells": [
    {
      "cell_type": "markdown",
      "metadata": {
        "id": "view-in-github",
        "colab_type": "text"
      },
      "source": [
        "<a href=\"https://colab.research.google.com/github/saktiworkstation/GNNs-LLMs-Research/blob/main/GNN_DOVE_simplification.ipynb\" target=\"_parent\"><img src=\"https://colab.research.google.com/assets/colab-badge.svg\" alt=\"Open In Colab\"/></a>"
      ]
    },
    {
      "cell_type": "code",
      "source": [
        "!pip install torch-geometric"
      ],
      "metadata": {
        "colab": {
          "base_uri": "https://localhost:8080/"
        },
        "id": "UMvknlomjV9X",
        "outputId": "fd0e9279-059d-4bb6-f569-2949bf2c4e04"
      },
      "execution_count": 2,
      "outputs": [
        {
          "output_type": "stream",
          "name": "stdout",
          "text": [
            "Collecting torch-geometric\n",
            "  Downloading torch_geometric-2.6.1-py3-none-any.whl.metadata (63 kB)\n",
            "\u001b[?25l     \u001b[90m━━━━━━━━━━━━━━━━━━━━━━━━━━━━━━━━━━━━━━━━\u001b[0m \u001b[32m0.0/63.1 kB\u001b[0m \u001b[31m?\u001b[0m eta \u001b[36m-:--:--\u001b[0m\r\u001b[2K     \u001b[90m━━━━━━━━━━━━━━━━━━━━━━━━━━━━━━━━━━━━━━━━\u001b[0m \u001b[32m63.1/63.1 kB\u001b[0m \u001b[31m2.0 MB/s\u001b[0m eta \u001b[36m0:00:00\u001b[0m\n",
            "\u001b[?25hRequirement already satisfied: aiohttp in /usr/local/lib/python3.11/dist-packages (from torch-geometric) (3.11.11)\n",
            "Requirement already satisfied: fsspec in /usr/local/lib/python3.11/dist-packages (from torch-geometric) (2024.10.0)\n",
            "Requirement already satisfied: jinja2 in /usr/local/lib/python3.11/dist-packages (from torch-geometric) (3.1.5)\n",
            "Requirement already satisfied: numpy in /usr/local/lib/python3.11/dist-packages (from torch-geometric) (1.26.4)\n",
            "Requirement already satisfied: psutil>=5.8.0 in /usr/local/lib/python3.11/dist-packages (from torch-geometric) (5.9.5)\n",
            "Requirement already satisfied: pyparsing in /usr/local/lib/python3.11/dist-packages (from torch-geometric) (3.2.1)\n",
            "Requirement already satisfied: requests in /usr/local/lib/python3.11/dist-packages (from torch-geometric) (2.32.3)\n",
            "Requirement already satisfied: tqdm in /usr/local/lib/python3.11/dist-packages (from torch-geometric) (4.67.1)\n",
            "Requirement already satisfied: aiohappyeyeballs>=2.3.0 in /usr/local/lib/python3.11/dist-packages (from aiohttp->torch-geometric) (2.4.4)\n",
            "Requirement already satisfied: aiosignal>=1.1.2 in /usr/local/lib/python3.11/dist-packages (from aiohttp->torch-geometric) (1.3.2)\n",
            "Requirement already satisfied: attrs>=17.3.0 in /usr/local/lib/python3.11/dist-packages (from aiohttp->torch-geometric) (25.1.0)\n",
            "Requirement already satisfied: frozenlist>=1.1.1 in /usr/local/lib/python3.11/dist-packages (from aiohttp->torch-geometric) (1.5.0)\n",
            "Requirement already satisfied: multidict<7.0,>=4.5 in /usr/local/lib/python3.11/dist-packages (from aiohttp->torch-geometric) (6.1.0)\n",
            "Requirement already satisfied: propcache>=0.2.0 in /usr/local/lib/python3.11/dist-packages (from aiohttp->torch-geometric) (0.2.1)\n",
            "Requirement already satisfied: yarl<2.0,>=1.17.0 in /usr/local/lib/python3.11/dist-packages (from aiohttp->torch-geometric) (1.18.3)\n",
            "Requirement already satisfied: MarkupSafe>=2.0 in /usr/local/lib/python3.11/dist-packages (from jinja2->torch-geometric) (3.0.2)\n",
            "Requirement already satisfied: charset-normalizer<4,>=2 in /usr/local/lib/python3.11/dist-packages (from requests->torch-geometric) (3.4.1)\n",
            "Requirement already satisfied: idna<4,>=2.5 in /usr/local/lib/python3.11/dist-packages (from requests->torch-geometric) (3.10)\n",
            "Requirement already satisfied: urllib3<3,>=1.21.1 in /usr/local/lib/python3.11/dist-packages (from requests->torch-geometric) (2.3.0)\n",
            "Requirement already satisfied: certifi>=2017.4.17 in /usr/local/lib/python3.11/dist-packages (from requests->torch-geometric) (2024.12.14)\n",
            "Downloading torch_geometric-2.6.1-py3-none-any.whl (1.1 MB)\n",
            "\u001b[2K   \u001b[90m━━━━━━━━━━━━━━━━━━━━━━━━━━━━━━━━━━━━━━━━\u001b[0m \u001b[32m1.1/1.1 MB\u001b[0m \u001b[31m17.8 MB/s\u001b[0m eta \u001b[36m0:00:00\u001b[0m\n",
            "\u001b[?25hInstalling collected packages: torch-geometric\n",
            "Successfully installed torch-geometric-2.6.1\n"
          ]
        }
      ]
    },
    {
      "cell_type": "code",
      "execution_count": null,
      "metadata": {
        "id": "aUeAuFcxZw0z"
      },
      "outputs": [],
      "source": [
        "import pandas as pd\n",
        "import numpy as np\n",
        "import matplotlib.pyplot as plt\n",
        "import seaborn as sns\n",
        "from sklearn.model_selection import train_test_split\n",
        "from sklearn.preprocessing import StandardScaler, LabelEncoder\n",
        "from sklearn.metrics import mean_squared_error\n",
        "import torch\n",
        "import torch.nn as nn\n",
        "from torch_geometric.data import Data, DataLoader\n",
        "from torch_geometric.nn import GCNConv, global_mean_pool\n",
        "import torch.nn.functional as F"
      ]
    },
    {
      "cell_type": "code",
      "source": [
        "df = pd.read_csv('/content/all-pairwise-interactions.csv')"
      ],
      "metadata": {
        "id": "8AnGnLy3j2NZ"
      },
      "execution_count": 6,
      "outputs": []
    },
    {
      "cell_type": "code",
      "source": [
        "print(\"Data Overview:\")\n",
        "print(df.head())\n",
        "print(\"\\nData Info:\")\n",
        "print(df.info())\n",
        "print(\"\\nDescriptive Stats:\")\n",
        "print(df.describe())\n",
        "print(\"\\nMissing Values:\")\n",
        "print(df.isnull().sum())"
      ],
      "metadata": {
        "colab": {
          "base_uri": "https://localhost:8080/"
        },
        "id": "HcULSc0Mj_Kn",
        "outputId": "45424d01-d400-4efb-e0ae-7963246b3748"
      },
      "execution_count": 7,
      "outputs": [
        {
          "output_type": "stream",
          "name": "stdout",
          "text": [
            "Data Overview:\n",
            "  PDB Code                                              Title Complex Type  \\\n",
            "0     10gs  'HUMAN GLUTATHIONE S-TRANSFERASE P1-1, COMPLEX...         HOMO   \n",
            "1     121p  'STRUKTUR UND GUANOSINTRIPHOSPHAT-HYDROLYSEMEC...         HOMO   \n",
            "2     13gs  'GLUTATHIONE S-TRANSFERASE COMPLEXED WITH SULF...         HOMO   \n",
            "3     15c8                 'CATALYTIC ANTIBODY 5C8, FREE FAB'       HETERO   \n",
            "4     17gs                   'GLUTATHIONE S-TRANSFERASE P1-1'         HOMO   \n",
            "\n",
            "  Biounit chain name (1)  Model number (1) Chain Content (1)  \\\n",
            "0                      A                 1          PeptideL   \n",
            "1                      A                 1          PeptideL   \n",
            "2                      A                 1          PeptideL   \n",
            "3                      H                 1          PeptideL   \n",
            "4                      A                 1          PeptideL   \n",
            "\n",
            "  Biounit chain name (2)  Model number (2) Chain Content (2)  \\\n",
            "0                      B                 1          PeptideL   \n",
            "1                    A-2                 1          PeptideL   \n",
            "2                      B                 1          PeptideL   \n",
            "3                      L                 1          PeptideL   \n",
            "4                      B                 1          PeptideL   \n",
            "\n",
            "   Mean area buried by each chain Release Date  \n",
            "0                       1202.7192   1998-09-16  \n",
            "1                        768.1447   1994-01-31  \n",
            "2                       1246.4320   1999-01-13  \n",
            "3                       1730.7234   1999-03-23  \n",
            "4                       1258.0095   1998-12-30  \n",
            "\n",
            "Data Info:\n",
            "<class 'pandas.core.frame.DataFrame'>\n",
            "RangeIndex: 462703 entries, 0 to 462702\n",
            "Data columns (total 11 columns):\n",
            " #   Column                          Non-Null Count   Dtype  \n",
            "---  ------                          --------------   -----  \n",
            " 0   PDB Code                        462703 non-null  object \n",
            " 1   Title                           462703 non-null  object \n",
            " 2   Complex Type                    462703 non-null  object \n",
            " 3   Biounit chain name (1)          462660 non-null  object \n",
            " 4   Model number (1)                462703 non-null  int64  \n",
            " 5   Chain Content (1)               462703 non-null  object \n",
            " 6   Biounit chain name (2)          462646 non-null  object \n",
            " 7   Model number (2)                462703 non-null  int64  \n",
            " 8   Chain Content (2)               462703 non-null  object \n",
            " 9   Mean area buried by each chain  462703 non-null  float64\n",
            " 10  Release Date                    462703 non-null  object \n",
            "dtypes: float64(1), int64(2), object(8)\n",
            "memory usage: 38.8+ MB\n",
            "None\n",
            "\n",
            "Descriptive Stats:\n",
            "       Model number (1)  Model number (2)  Mean area buried by each chain\n",
            "count          462703.0          462703.0                    4.627030e+05\n",
            "mean                1.0               1.0                    9.409008e+02\n",
            "std                 0.0               0.0                    1.078812e+03\n",
            "min                 1.0               1.0                    1.675434e-17\n",
            "25%                 1.0               1.0                    2.448993e+02\n",
            "50%                 1.0               1.0                    6.096633e+02\n",
            "75%                 1.0               1.0                    1.301639e+03\n",
            "max                 1.0               1.0                    7.664271e+04\n",
            "\n",
            "Missing Values:\n",
            "PDB Code                           0\n",
            "Title                              0\n",
            "Complex Type                       0\n",
            "Biounit chain name (1)            43\n",
            "Model number (1)                   0\n",
            "Chain Content (1)                  0\n",
            "Biounit chain name (2)            57\n",
            "Model number (2)                   0\n",
            "Chain Content (2)                  0\n",
            "Mean area buried by each chain     0\n",
            "Release Date                       0\n",
            "dtype: int64\n"
          ]
        }
      ]
    },
    {
      "cell_type": "markdown",
      "source": [
        "**Preprocessing**"
      ],
      "metadata": {
        "id": "wv6pcLdpk0kG"
      }
    },
    {
      "cell_type": "code",
      "source": [
        "# Handle categorical data\n",
        "le = LabelEncoder()\n",
        "df['Complex Type'] = le.fit_transform(df['Complex Type'])\n",
        "\n",
        "# Convert date to datetime and extract year\n",
        "df['Release Date'] = pd.to_datetime(df['Release Date'], errors='coerce')\n",
        "df['Release Year'] = df['Release Date'].dt.year.fillna(0).astype(int)\n",
        "\n",
        "# Select features and target\n",
        "features = ['Complex Type', 'Model number (1)', 'Model number (2)', 'Release Year']\n",
        "target = 'Mean area buried by each chain'\n",
        "\n",
        "# Normalize features\n",
        "scaler = StandardScaler()\n",
        "X = scaler.fit_transform(df[features])\n",
        "y = df[target].values"
      ],
      "metadata": {
        "id": "EaGInLh-kyWa"
      },
      "execution_count": 13,
      "outputs": []
    },
    {
      "cell_type": "markdown",
      "source": [
        "**Data Visualization**"
      ],
      "metadata": {
        "id": "nk6Js_5RlDZ2"
      }
    },
    {
      "cell_type": "code",
      "source": [
        "plt.figure(figsize=(12, 6))\n",
        "sns.histplot(df['Mean area buried by each chain'], kde=True)\n",
        "plt.title('Distribution of Mean Buried Area')\n",
        "plt.show()\n",
        "\n",
        "plt.figure(figsize=(12, 6))\n",
        "sns.countplot(x='Release Year', data=df)\n",
        "plt.title('Publications per Year')\n",
        "plt.xticks(rotation=45)\n",
        "plt.show()"
      ],
      "metadata": {
        "colab": {
          "base_uri": "https://localhost:8080/",
          "height": 1000
        },
        "id": "7VEsy-hak_OK",
        "outputId": "7e82ef74-5cf9-44f3-9f50-faf7aaa4287a"
      },
      "execution_count": 14,
      "outputs": [
        {
          "output_type": "display_data",
          "data": {
            "text/plain": [
              "<Figure size 1200x600 with 1 Axes>"
            ],
            "image/png": "[encoded data removed]"
          },
          "metadata": {}
        },
        {
          "output_type": "display_data",
          "data": {
            "text/plain": [
              "<Figure size 1200x600 with 1 Axes>"
            ],
            "image/png": "[encoded data removed]"
          },
          "metadata": {}
        }
      ]
    },
    {
      "cell_type": "markdown",
      "source": [
        "**Prepare Graph Data**"
      ],
      "metadata": {
        "id": "hIua62XJlIpm"
      }
    },
    {
      "cell_type": "code",
      "source": [
        "# Create edge indices (example: connect nodes with similar release years)\n",
        "edge_list = []\n",
        "for i in range(len(df)):\n",
        "    for j in range(len(df)):\n",
        "        if abs(df['Release Year'][i] - df['Release Year'][j]) < 2:\n",
        "            edge_list.append([i, j])\n",
        "\n",
        "edge_index = torch.tensor(edge_list, dtype=torch.long).t().contiguous()\n",
        "\n",
        "# Create PyG Data object\n",
        "data = Data(\n",
        "    x=torch.tensor(X, dtype=torch.float),\n",
        "    edge_index=edge_index,\n",
        "    y=torch.tensor(y, dtype=torch.float)\n",
        ")\n",
        "\n",
        "train_mask, test_mask = train_test_split(\n",
        "    range(len(df)),\n",
        "    test_size=0.2,\n",
        "    random_state=42\n",
        ")\n",
        "\n",
        "data.train_mask = torch.tensor(train_mask, dtype=torch.bool)\n",
        "data.test_mask = torch.tensor(test_mask, dtype=torch.bool)"
      ],
      "metadata": {
        "id": "xteKQbU9lG4w"
      },
      "execution_count": null,
      "outputs": []
    },
    {
      "cell_type": "markdown",
      "source": [
        "**Setup model**"
      ],
      "metadata": {
        "id": "K6nxlAomlS1h"
      }
    },
    {
      "cell_type": "code",
      "source": [
        "class DOVE(nn.Module):\n",
        "    def __init__(self, input_dim, hidden_dim, output_dim):\n",
        "        super(DOVE, self).__init__()\n",
        "        self.conv1 = GCNConv(input_dim, hidden_dim)\n",
        "        self.conv2 = GCNConv(hidden_dim, hidden_dim)\n",
        "        self.lin = nn.Linear(hidden_dim, output_dim)\n",
        "\n",
        "    def forward(self, data):\n",
        "        x, edge_index = data.x, data.edge_index\n",
        "        x = self.conv1(x, edge_index)\n",
        "        x = F.relu(x)\n",
        "        x = F.dropout(x, p=0.5, training=self.training)\n",
        "        x = self.conv2(x, edge_index)\n",
        "        x = self.lin(x)\n",
        "        return x\n",
        "\n",
        "model = DOVE(input_dim=len(features), hidden_dim=32, output_dim=1)"
      ],
      "metadata": {
        "id": "w0twe_06lSkD"
      },
      "execution_count": 11,
      "outputs": []
    },
    {
      "cell_type": "code",
      "source": [
        "optimizer = torch.optim.Adam(model.parameters(), lr=0.001)\n",
        "criterion = nn.MSELoss()\n",
        "\n",
        "def train():\n",
        "    model.train()\n",
        "    optimizer.zero_grad()\n",
        "    out = model(data)\n",
        "    loss = criterion(out[data.train_mask], data.y[data.train_mask])\n",
        "    loss.backward()\n",
        "    optimizer.step()\n",
        "    return loss.item()\n",
        "\n",
        "def test(mask):\n",
        "    model.eval()\n",
        "    with torch.no_grad():\n",
        "        out = model(data)\n",
        "        pred = out[mask]\n",
        "        true = data.y[mask]\n",
        "        rmse = torch.sqrt(criterion(pred, true))\n",
        "    return rmse.item()"
      ],
      "metadata": {
        "id": "Rv5gXWuhldYD"
      },
      "execution_count": null,
      "outputs": []
    },
    {
      "cell_type": "code",
      "source": [
        "best_rmse = float('inf')\n",
        "for epoch in range(1, 201):\n",
        "    loss = train()\n",
        "    train_rmse = test(data.train_mask)\n",
        "    test_rmse = test(data.test_mask)\n",
        "\n",
        "    if test_rmse < best_rmse:\n",
        "        best_rmse = test_rmse\n",
        "        torch.save(model.state_dict(), 'best_model.pth')\n",
        "\n",
        "    if epoch % 20 == 0:\n",
        "        print(f'Epoch: {epoch:03d}, Loss: {loss:.4f}, '\n",
        "              f'Train RMSE: {train_rmse:.2f}, Test RMSE: {test_rmse:.2f}')"
      ],
      "metadata": {
        "id": "Mc3tBV7z1aeU"
      },
      "execution_count": null,
      "outputs": []
    },
    {
      "cell_type": "code",
      "source": [
        "hidden_dims = [16, 32, 64]\n",
        "learning_rates = [0.001, 0.0005]\n",
        "\n",
        "results = {}\n",
        "for dim in hidden_dims:\n",
        "    for lr in learning_rates:\n",
        "        model = DOVE(len(features), dim, 1)\n",
        "        optimizer = torch.optim.Adam(model.parameters(), lr=lr)\n",
        "\n",
        "        # Train briefly for demonstration\n",
        "        for epoch in range(50):\n",
        "            train()\n",
        "\n",
        "        test_rmse = test(data.test_mask)\n",
        "        results[f'dim_{dim}_lr_{lr}'] = test_rmse\n",
        "        print(f'Config: dim={dim}, lr={lr} - RMSE: {test_rmse:.2f}')"
      ],
      "metadata": {
        "id": "uLgCvP1Q1cKQ"
      },
      "execution_count": null,
      "outputs": []
    },
    {
      "cell_type": "code",
      "source": [
        "best_config = min(results, key=results.get)\n",
        "print(f'Best configuration: {best_config} with RMSE: {results[best_config]:.2f}')"
      ],
      "metadata": {
        "id": "PyqFoH_b1eAi"
      },
      "execution_count": null,
      "outputs": []
    }
  ]
}