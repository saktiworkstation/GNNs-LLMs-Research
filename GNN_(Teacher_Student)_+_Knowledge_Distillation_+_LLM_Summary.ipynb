{
  "nbformat": 4,
  "nbformat_minor": 0,
  "metadata": {
    "colab": {
      "provenance": [],
      "authorship_tag": "ABX9TyMpVoSmCh4SJBrCKJwLgLYM",
      "include_colab_link": true
    },
    "kernelspec": {
      "name": "python3",
      "display_name": "Python 3"
    },
    "language_info": {
      "name": "python"
    }
  },
  "cells": [
    {
      "cell_type": "markdown",
      "metadata": {
        "id": "view-in-github",
        "colab_type": "text"
      },
      "source": [
        "<a href=\"https://colab.research.google.com/github/saktiworkstation/GNNs-LLMs-Research/blob/main/GNN_(Teacher_Student)_%2B_Knowledge_Distillation_%2B_LLM_Summary.ipynb\" target=\"_parent\"><img src=\"https://colab.research.google.com/assets/colab-badge.svg\" alt=\"Open In Colab\"/></a>"
      ]
    },
    {
      "cell_type": "code",
      "execution_count": 1,
      "metadata": {
        "colab": {
          "base_uri": "https://localhost:8080/"
        },
        "id": "W5pEqHrZCyFp",
        "outputId": "a66b2ae4-d73c-4207-819e-d7d7afa92fc2"
      },
      "outputs": [
        {
          "output_type": "stream",
          "name": "stdout",
          "text": [
            "Requirement already satisfied: torch-geometric in /usr/local/lib/python3.10/dist-packages (2.6.1)\n",
            "Requirement already satisfied: aiohttp in /usr/local/lib/python3.10/dist-packages (from torch-geometric) (3.11.11)\n",
            "Requirement already satisfied: fsspec in /usr/local/lib/python3.10/dist-packages (from torch-geometric) (2024.10.0)\n",
            "Requirement already satisfied: jinja2 in /usr/local/lib/python3.10/dist-packages (from torch-geometric) (3.1.5)\n",
            "Requirement already satisfied: numpy in /usr/local/lib/python3.10/dist-packages (from torch-geometric) (1.26.4)\n",
            "Requirement already satisfied: psutil>=5.8.0 in /usr/local/lib/python3.10/dist-packages (from torch-geometric) (5.9.5)\n",
            "Requirement already satisfied: pyparsing in /usr/local/lib/python3.10/dist-packages (from torch-geometric) (3.2.1)\n",
            "Requirement already satisfied: requests in /usr/local/lib/python3.10/dist-packages (from torch-geometric) (2.32.3)\n",
            "Requirement already satisfied: tqdm in /usr/local/lib/python3.10/dist-packages (from torch-geometric) (4.67.1)\n",
            "Requirement already satisfied: aiohappyeyeballs>=2.3.0 in /usr/local/lib/python3.10/dist-packages (from aiohttp->torch-geometric) (2.4.4)\n",
            "Requirement already satisfied: aiosignal>=1.1.2 in /usr/local/lib/python3.10/dist-packages (from aiohttp->torch-geometric) (1.3.2)\n",
            "Requirement already satisfied: async-timeout<6.0,>=4.0 in /usr/local/lib/python3.10/dist-packages (from aiohttp->torch-geometric) (4.0.3)\n",
            "Requirement already satisfied: attrs>=17.3.0 in /usr/local/lib/python3.10/dist-packages (from aiohttp->torch-geometric) (24.3.0)\n",
            "Requirement already satisfied: frozenlist>=1.1.1 in /usr/local/lib/python3.10/dist-packages (from aiohttp->torch-geometric) (1.5.0)\n",
            "Requirement already satisfied: multidict<7.0,>=4.5 in /usr/local/lib/python3.10/dist-packages (from aiohttp->torch-geometric) (6.1.0)\n",
            "Requirement already satisfied: propcache>=0.2.0 in /usr/local/lib/python3.10/dist-packages (from aiohttp->torch-geometric) (0.2.1)\n",
            "Requirement already satisfied: yarl<2.0,>=1.17.0 in /usr/local/lib/python3.10/dist-packages (from aiohttp->torch-geometric) (1.18.3)\n",
            "Requirement already satisfied: MarkupSafe>=2.0 in /usr/local/lib/python3.10/dist-packages (from jinja2->torch-geometric) (3.0.2)\n",
            "Requirement already satisfied: charset-normalizer<4,>=2 in /usr/local/lib/python3.10/dist-packages (from requests->torch-geometric) (3.4.1)\n",
            "Requirement already satisfied: idna<4,>=2.5 in /usr/local/lib/python3.10/dist-packages (from requests->torch-geometric) (3.10)\n",
            "Requirement already satisfied: urllib3<3,>=1.21.1 in /usr/local/lib/python3.10/dist-packages (from requests->torch-geometric) (2.3.0)\n",
            "Requirement already satisfied: certifi>=2017.4.17 in /usr/local/lib/python3.10/dist-packages (from requests->torch-geometric) (2024.12.14)\n",
            "Requirement already satisfied: typing-extensions>=4.1.0 in /usr/local/lib/python3.10/dist-packages (from multidict<7.0,>=4.5->aiohttp->torch-geometric) (4.12.2)\n",
            "Requirement already satisfied: transformers in /usr/local/lib/python3.10/dist-packages (4.47.1)\n",
            "Requirement already satisfied: filelock in /usr/local/lib/python3.10/dist-packages (from transformers) (3.16.1)\n",
            "Requirement already satisfied: huggingface-hub<1.0,>=0.24.0 in /usr/local/lib/python3.10/dist-packages (from transformers) (0.27.1)\n",
            "Requirement already satisfied: numpy>=1.17 in /usr/local/lib/python3.10/dist-packages (from transformers) (1.26.4)\n",
            "Requirement already satisfied: packaging>=20.0 in /usr/local/lib/python3.10/dist-packages (from transformers) (24.2)\n",
            "Requirement already satisfied: pyyaml>=5.1 in /usr/local/lib/python3.10/dist-packages (from transformers) (6.0.2)\n",
            "Requirement already satisfied: regex!=2019.12.17 in /usr/local/lib/python3.10/dist-packages (from transformers) (2024.11.6)\n",
            "Requirement already satisfied: requests in /usr/local/lib/python3.10/dist-packages (from transformers) (2.32.3)\n",
            "Requirement already satisfied: tokenizers<0.22,>=0.21 in /usr/local/lib/python3.10/dist-packages (from transformers) (0.21.0)\n",
            "Requirement already satisfied: safetensors>=0.4.1 in /usr/local/lib/python3.10/dist-packages (from transformers) (0.5.1)\n",
            "Requirement already satisfied: tqdm>=4.27 in /usr/local/lib/python3.10/dist-packages (from transformers) (4.67.1)\n",
            "Requirement already satisfied: fsspec>=2023.5.0 in /usr/local/lib/python3.10/dist-packages (from huggingface-hub<1.0,>=0.24.0->transformers) (2024.10.0)\n",
            "Requirement already satisfied: typing-extensions>=3.7.4.3 in /usr/local/lib/python3.10/dist-packages (from huggingface-hub<1.0,>=0.24.0->transformers) (4.12.2)\n",
            "Requirement already satisfied: charset-normalizer<4,>=2 in /usr/local/lib/python3.10/dist-packages (from requests->transformers) (3.4.1)\n",
            "Requirement already satisfied: idna<4,>=2.5 in /usr/local/lib/python3.10/dist-packages (from requests->transformers) (3.10)\n",
            "Requirement already satisfied: urllib3<3,>=1.21.1 in /usr/local/lib/python3.10/dist-packages (from requests->transformers) (2.3.0)\n",
            "Requirement already satisfied: certifi>=2017.4.17 in /usr/local/lib/python3.10/dist-packages (from requests->transformers) (2024.12.14)\n"
          ]
        }
      ],
      "source": [
        "!pip install torch-geometric\n",
        "!pip install transformers"
      ]
    },
    {
      "cell_type": "code",
      "source": [
        "import torch\n",
        "import torch.nn.functional as F\n",
        "from torch_geometric.datasets import Planetoid\n",
        "from torch_geometric.nn import GCNConv\n",
        "\n",
        "# LLM\n",
        "from transformers import AutoModelForCausalLM, AutoTokenizer"
      ],
      "metadata": {
        "id": "duQZS1d_Dt_w"
      },
      "execution_count": 2,
      "outputs": []
    },
    {
      "cell_type": "code",
      "source": [
        "dataset_name = 'CiteSeer'\n",
        "dataset = Planetoid(root='data/CiteSeer', name=dataset_name)\n",
        "\n",
        "data = dataset[0]"
      ],
      "metadata": {
        "id": "J9lQ3ZBGELTQ"
      },
      "execution_count": 3,
      "outputs": []
    },
    {
      "cell_type": "code",
      "source": [
        "device = torch.device('cuda' if torch.cuda.is_available() else 'cpu')\n",
        "data = data.to(device)"
      ],
      "metadata": {
        "id": "c3f6z85VbIZT"
      },
      "execution_count": 4,
      "outputs": []
    },
    {
      "cell_type": "code",
      "source": [
        "print(\"===== INFORMASI DATASET =====\")\n",
        "print(f\"Nama Dataset      : {dataset_name}\")\n",
        "print(f\"Jumlah Graph      : {len(dataset)}\")\n",
        "print(f\"Jumlah Fitur      : {dataset.num_features}\")\n",
        "print(f\"Jumlah Kelas      : {dataset.num_classes}\")\n",
        "print(f\"Jumlah Node       : {data.num_nodes}\")\n",
        "print(f\"Jumlah Edge       : {data.num_edges}\")\n",
        "print(f\"Average Node Degree : {data.num_edges / data.num_nodes:.2f}\")\n",
        "print(f\"Jumlah Training Nodes : {data.train_mask.sum().item()}\")\n",
        "print(f\"Jumlah Validation Nodes : {data.val_mask.sum().item()}\")\n",
        "print(f\"Jumlah Test Nodes : {data.test_mask.sum().item()}\\n\")"
      ],
      "metadata": {
        "colab": {
          "base_uri": "https://localhost:8080/"
        },
        "id": "YiLvskL5EOSA",
        "outputId": "df0fce1d-e3e1-41e9-c147-6b2c30f6fe72"
      },
      "execution_count": 5,
      "outputs": [
        {
          "output_type": "stream",
          "name": "stdout",
          "text": [
            "===== INFORMASI DATASET =====\n",
            "Nama Dataset      : CiteSeer\n",
            "Jumlah Graph      : 1\n",
            "Jumlah Fitur      : 3703\n",
            "Jumlah Kelas      : 6\n",
            "Jumlah Node       : 3327\n",
            "Jumlah Edge       : 9104\n",
            "Average Node Degree : 2.74\n",
            "Jumlah Training Nodes : 120\n",
            "Jumlah Validation Nodes : 500\n",
            "Jumlah Test Nodes : 1000\n",
            "\n"
          ]
        }
      ]
    },
    {
      "cell_type": "code",
      "source": [
        "labels = data.y\n",
        "unique_labels, counts_labels = torch.unique(labels, return_counts=True)\n",
        "print(\"\\n=== DISTRIBUSI KELAS ===\")\n",
        "for lab, count in zip(unique_labels, counts_labels):\n",
        "    print(f\"Kelas {lab.item()}: {count.item()} node\")\n",
        "\n",
        "print(\"\\n=== EDGE SAMPLE ===\")\n",
        "print(data.edge_index[:, :10])"
      ],
      "metadata": {
        "colab": {
          "base_uri": "https://localhost:8080/"
        },
        "id": "41jwpYzeERRY",
        "outputId": "d5f3cef9-273b-4da5-e525-6f8bb22569af"
      },
      "execution_count": 6,
      "outputs": [
        {
          "output_type": "stream",
          "name": "stdout",
          "text": [
            "\n",
            "=== DISTRIBUSI KELAS ===\n",
            "Kelas 0: 264 node\n",
            "Kelas 1: 590 node\n",
            "Kelas 2: 668 node\n",
            "Kelas 3: 701 node\n",
            "Kelas 4: 596 node\n",
            "Kelas 5: 508 node\n",
            "\n",
            "=== EDGE SAMPLE ===\n",
            "tensor([[ 628,  158,  486, 1097, 2919, 2933, 3285, 1431, 3219,  467],\n",
            "        [   0,    1,    1,    1,    1,    1,    2,    3,    3,    4]])\n"
          ]
        }
      ]
    },
    {
      "cell_type": "code",
      "source": [
        "import matplotlib.pyplot as plt\n",
        "import networkx as nx\n",
        "\n",
        "sub_node_count = 500\n",
        "sub_edge_mask = (data.edge_index[0] < sub_node_count) & (data.edge_index[1] < sub_node_count)\n",
        "sub_edge_index = data.edge_index[:, sub_edge_mask]\n",
        "\n",
        "sub_G = nx.Graph()\n",
        "sub_edges = list(zip(sub_edge_index[0].tolist(), sub_edge_index[1].tolist()))\n",
        "sub_G.add_edges_from(sub_edges)\n",
        "\n",
        "plt.figure(figsize=(8, 6))\n",
        "nx.draw(sub_G, node_size=50)\n",
        "plt.title(\"Sub-graph Visualisasi (500 Node Pertama)\")\n",
        "plt.show()"
      ],
      "metadata": {
        "colab": {
          "base_uri": "https://localhost:8080/",
          "height": 659
        },
        "id": "tPDszPGnETNT",
        "outputId": "c899f10a-7435-481f-8a6b-c0f28229db85"
      },
      "execution_count": 7,
      "outputs": [
        {
          "output_type": "display_data",
          "data": {
            "text/plain": [
              "<Figure size 800x600 with 1 Axes>"
            ],
            "image/png": "[encoded data removed]"
          },
          "metadata": {}
        }
      ]
    },
    {
      "cell_type": "markdown",
      "source": [
        "# GCN MODEL"
      ],
      "metadata": {
        "id": "kjFFzm7QIEHq"
      }
    },
    {
      "cell_type": "markdown",
      "source": [
        "**Teacher GNN (3 Lapisan GCN)**"
      ],
      "metadata": {
        "id": "n4UJZNobISRR"
      }
    },
    {
      "cell_type": "code",
      "source": [
        "class TeacherGCN(torch.nn.Module):\n",
        "    def __init__(self, in_channels, hidden_channels, out_channels):\n",
        "        super(TeacherGCN, self).__init__()\n",
        "        self.conv1 = GCNConv(in_channels, hidden_channels)\n",
        "        self.conv2 = GCNConv(hidden_channels, hidden_channels)\n",
        "        self.conv3 = GCNConv(hidden_channels, out_channels)\n",
        "\n",
        "    def forward(self, x, edge_index):\n",
        "        x = self.conv1(x, edge_index)\n",
        "        x = F.relu(x)\n",
        "        x = self.conv2(x, edge_index)\n",
        "        x = F.relu(x)\n",
        "        x = F.dropout(x, p=0.5, training=self.training)\n",
        "        x = self.conv3(x, edge_index)\n",
        "        return x  # logits sebelum softmax"
      ],
      "metadata": {
        "id": "pvKwvfHkIDVB"
      },
      "execution_count": 8,
      "outputs": []
    },
    {
      "cell_type": "markdown",
      "source": [
        "**Student GNN (2 Lapisan GCN)**"
      ],
      "metadata": {
        "id": "U8BMpVi6IaHI"
      }
    },
    {
      "cell_type": "code",
      "source": [
        "class StudentGCN(torch.nn.Module):\n",
        "    def __init__(self, in_channels, hidden_channels, out_channels):\n",
        "        super(StudentGCN, self).__init__()\n",
        "        self.conv1 = GCNConv(in_channels, hidden_channels)\n",
        "        self.conv2 = GCNConv(hidden_channels, out_channels)\n",
        "\n",
        "    def forward(self, x, edge_index):\n",
        "        x = self.conv1(x, edge_index)\n",
        "        x = F.relu(x)\n",
        "        x = F.dropout(x, p=0.5, training=self.training)\n",
        "        x = self.conv2(x, edge_index)\n",
        "        return x  # logits sebelum softmax"
      ],
      "metadata": {
        "id": "7mbrcsqEIbij"
      },
      "execution_count": 9,
      "outputs": []
    },
    {
      "cell_type": "markdown",
      "source": [
        "**TRAINING & EVALUATION**"
      ],
      "metadata": {
        "id": "JozB_rc-Ieng"
      }
    },
    {
      "cell_type": "code",
      "source": [
        "def evaluate(model, data):\n",
        "    model.eval()\n",
        "    logits = model(data.x, data.edge_index)\n",
        "    preds = logits.argmax(dim=1)\n",
        "\n",
        "    accs = []\n",
        "    for mask_name, mask in zip(\n",
        "        [\"Train\", \"Validation\", \"Test\"],\n",
        "        [data.train_mask, data.val_mask, data.test_mask]\n",
        "    ):\n",
        "        correct = preds[mask].eq(data.y[mask]).sum().item()\n",
        "        acc = correct / mask.sum().item()\n",
        "        accs.append(acc)\n",
        "    return accs  # [train_acc, val_acc, test_acc]\n"
      ],
      "metadata": {
        "id": "hx9-QzwIIjBw"
      },
      "execution_count": 10,
      "outputs": []
    },
    {
      "cell_type": "markdown",
      "source": [
        "**TRAIN TEACHER**"
      ],
      "metadata": {
        "id": "RruYulcuIqGo"
      }
    },
    {
      "cell_type": "code",
      "source": [
        "teacher_model = TeacherGCN(\n",
        "    in_channels=dataset.num_features,\n",
        "    hidden_channels=64,\n",
        "    out_channels=dataset.num_classes\n",
        ").to(device)\n",
        "\n",
        "teacher_optimizer = torch.optim.Adam(teacher_model.parameters(), lr=0.01, weight_decay=5e-4)\n",
        "\n",
        "def train_teacher(model, data, optimizer):\n",
        "    model.train()\n",
        "    optimizer.zero_grad()\n",
        "    logits = model(data.x, data.edge_index)\n",
        "    loss = F.cross_entropy(logits[data.train_mask], data.y[data.train_mask])\n",
        "    loss.backward()\n",
        "    optimizer.step()\n",
        "    return loss.item()\n",
        "\n",
        "print(\"===== TRAINING TEACHER GCN =====\")\n",
        "for epoch in range(1, 101):  # Atur sesuai kebutuhan\n",
        "    loss_t = train_teacher(teacher_model, data, teacher_optimizer)\n",
        "    if epoch % 20 == 0:\n",
        "        train_acc_t, val_acc_t, test_acc_t = evaluate(teacher_model, data)\n",
        "        print(f\"Epoch: {epoch:03d}, Loss: {loss_t:.4f}, \"\n",
        "              f\"Train Acc: {train_acc_t:.4f}, Val Acc: {val_acc_t:.4f}, Test Acc: {test_acc_t:.4f}\")"
      ],
      "metadata": {
        "colab": {
          "base_uri": "https://localhost:8080/"
        },
        "id": "AUSX9YuVI0On",
        "outputId": "e01e845d-8d74-4921-bdfd-7803adaf35e9"
      },
      "execution_count": 11,
      "outputs": [
        {
          "output_type": "stream",
          "name": "stdout",
          "text": [
            "===== TRAINING TEACHER GCN =====\n",
            "Epoch: 020, Loss: 0.0116, Train Acc: 1.0000, Val Acc: 0.6700, Test Acc: 0.6390\n",
            "Epoch: 040, Loss: 0.0321, Train Acc: 1.0000, Val Acc: 0.6860, Test Acc: 0.6580\n",
            "Epoch: 060, Loss: 0.0163, Train Acc: 1.0000, Val Acc: 0.6640, Test Acc: 0.6480\n",
            "Epoch: 080, Loss: 0.0030, Train Acc: 1.0000, Val Acc: 0.6720, Test Acc: 0.6460\n",
            "Epoch: 100, Loss: 0.0033, Train Acc: 1.0000, Val Acc: 0.6720, Test Acc: 0.6340\n"
          ]
        }
      ]
    },
    {
      "cell_type": "code",
      "source": [
        "train_acc_t, val_acc_t, test_acc_t = evaluate(teacher_model, data)\n",
        "print(\"\\n===== HASIL AKHIR TEACHER =====\")\n",
        "print(f\"Train Acc: {train_acc_t:.4f}\")\n",
        "print(f\"Val Acc  : {val_acc_t:.4f}\")\n",
        "print(f\"Test Acc : {test_acc_t:.4f}\\n\")"
      ],
      "metadata": {
        "colab": {
          "base_uri": "https://localhost:8080/"
        },
        "id": "F4DXz_GFJhUe",
        "outputId": "8fb92d41-8521-4733-ea57-0001bd6ea11e"
      },
      "execution_count": 12,
      "outputs": [
        {
          "output_type": "stream",
          "name": "stdout",
          "text": [
            "\n",
            "===== HASIL AKHIR TEACHER =====\n",
            "Train Acc: 1.0000\n",
            "Val Acc  : 0.6720\n",
            "Test Acc : 0.6340\n",
            "\n"
          ]
        }
      ]
    },
    {
      "cell_type": "markdown",
      "source": [
        "**KNOWLEDGE DISTILLATION**"
      ],
      "metadata": {
        "id": "pJcG6Yi4JtWK"
      }
    },
    {
      "cell_type": "code",
      "source": [
        "def distillation_loss(student_logits, teacher_logits, labels, mask, alpha=0.5, temperature=2.0):\n",
        "    \"\"\"\n",
        "    student_logits: output logits dari student\n",
        "    teacher_logits: output logits dari teacher (tanpa softmax)\n",
        "    labels        : label ground-truth\n",
        "    mask          : node mask (train set)\n",
        "    alpha         : rasio campuran antara CE dan KL\n",
        "    temperature   : faktor skala temperatur\n",
        "\n",
        "    Return gabungan CrossEntropy (dengan label asli) dan KL Divergence (dengan soft label teacher)\n",
        "    \"\"\"\n",
        "\n",
        "    # Hard label loss (CE)\n",
        "    ce_loss = F.cross_entropy(student_logits[mask], labels[mask])\n",
        "\n",
        "    # Soft label loss (KL Divergence) dengan temperature\n",
        "    # Softmax(teacher/Temp) vs logSoftmax(student/Temp)\n",
        "    student_probs = F.log_softmax(student_logits[mask] / temperature, dim=1)\n",
        "    teacher_probs = F.softmax(teacher_logits[mask] / temperature, dim=1)\n",
        "\n",
        "    kl_div = F.kl_div(student_probs, teacher_probs, reduction=\"batchmean\") * (temperature ** 2)\n",
        "\n",
        "    loss = alpha * ce_loss + (1 - alpha) * kl_div\n",
        "    return loss"
      ],
      "metadata": {
        "id": "vty1S4uaJsvi"
      },
      "execution_count": 13,
      "outputs": []
    },
    {
      "cell_type": "code",
      "source": [
        "student_model = StudentGCN(\n",
        "    in_channels=dataset.num_features,\n",
        "    hidden_channels=32,  # Lebih kecil dari teacher\n",
        "    out_channels=dataset.num_classes\n",
        ").to(device)\n",
        "\n",
        "student_optimizer = torch.optim.Adam(student_model.parameters(), lr=0.01, weight_decay=5e-4)\n",
        "\n",
        "def train_student_distill(teacher, student, data, optimizer, alpha=0.5, temperature=2.0):\n",
        "    \"\"\"\n",
        "    Melatih student model dengan memanfaatkan soft logits dari teacher.\n",
        "    \"\"\"\n",
        "    student.train()\n",
        "    teacher.eval()  # teacher tidak di-train\n",
        "\n",
        "    optimizer.zero_grad()\n",
        "\n",
        "    with torch.no_grad():\n",
        "        teacher_logits = teacher(data.x, data.edge_index)\n",
        "    student_logits = student(data.x, data.edge_index)\n",
        "\n",
        "    loss = distillation_loss(\n",
        "        student_logits, teacher_logits, data.y, data.train_mask,\n",
        "        alpha=alpha, temperature=temperature\n",
        "    )\n",
        "    loss.backward()\n",
        "    optimizer.step()\n",
        "    return loss.item()\n",
        "\n",
        "print(\"===== DISTILLATION: TRAIN STUDENT GCN =====\")\n",
        "for epoch in range(1, 101):  # Bisa atur sesuai kebutuhan\n",
        "    loss_s = train_student_distill(teacher_model, student_model, data, student_optimizer,\n",
        "                                   alpha=0.5, temperature=2.0)\n",
        "    if epoch % 20 == 0:\n",
        "        train_acc_s, val_acc_s, test_acc_s = evaluate(student_model, data)\n",
        "        print(f\"Epoch: {epoch:03d}, Loss: {loss_s:.4f}, \"\n",
        "              f\"Train Acc: {train_acc_s:.4f}, Val Acc: {val_acc_s:.4f}, Test Acc: {test_acc_s:.4f}\")"
      ],
      "metadata": {
        "colab": {
          "base_uri": "https://localhost:8080/"
        },
        "id": "4yx-v_vXK14Z",
        "outputId": "8ae96258-cf6d-450d-cb5b-41becae08483"
      },
      "execution_count": 14,
      "outputs": [
        {
          "output_type": "stream",
          "name": "stdout",
          "text": [
            "===== DISTILLATION: TRAIN STUDENT GCN =====\n",
            "Epoch: 020, Loss: 0.1312, Train Acc: 1.0000, Val Acc: 0.6480, Test Acc: 0.6470\n",
            "Epoch: 040, Loss: 0.0841, Train Acc: 1.0000, Val Acc: 0.6540, Test Acc: 0.6520\n",
            "Epoch: 060, Loss: 0.0554, Train Acc: 1.0000, Val Acc: 0.6780, Test Acc: 0.6740\n",
            "Epoch: 080, Loss: 0.0628, Train Acc: 1.0000, Val Acc: 0.6900, Test Acc: 0.6830\n",
            "Epoch: 100, Loss: 0.0599, Train Acc: 1.0000, Val Acc: 0.6860, Test Acc: 0.6860\n"
          ]
        }
      ]
    },
    {
      "cell_type": "code",
      "source": [
        "train_acc_s, val_acc_s, test_acc_s = evaluate(student_model, data)\n",
        "print(\"\\n===== HASIL AKHIR STUDENT (DISTILLED) =====\")\n",
        "print(f\"Train Acc: {train_acc_s:.4f}\")\n",
        "print(f\"Val Acc  : {val_acc_s:.4f}\")\n",
        "print(f\"Test Acc : {test_acc_s:.4f}\\n\")"
      ],
      "metadata": {
        "colab": {
          "base_uri": "https://localhost:8080/"
        },
        "id": "DDXGqXC0K8Xy",
        "outputId": "fdb92c4d-4ecb-4f84-f18c-f99a1fafd76b"
      },
      "execution_count": 15,
      "outputs": [
        {
          "output_type": "stream",
          "name": "stdout",
          "text": [
            "\n",
            "===== HASIL AKHIR STUDENT (DISTILLED) =====\n",
            "Train Acc: 1.0000\n",
            "Val Acc  : 0.6860\n",
            "Test Acc : 0.6860\n",
            "\n"
          ]
        }
      ]
    },
    {
      "cell_type": "markdown",
      "source": [
        "**INTEGRASI LLM (HASIL)**"
      ],
      "metadata": {
        "id": "6Kpbot3XLFnq"
      }
    },
    {
      "cell_type": "code",
      "source": [
        "model_name = \"gpt2\"  # Model GPT-2 kecil, dapat diganti yang lain\n",
        "tokenizer = AutoTokenizer.from_pretrained(model_name)\n",
        "gpt2_model = AutoModelForCausalLM.from_pretrained(model_name).to(device)\n",
        "\n",
        "def generate_summary(teacher_scores, student_scores):\n",
        "    \"\"\"\n",
        "    teacher_scores: (train_acc_t, val_acc_t, test_acc_t)\n",
        "    student_scores: (train_acc_s, val_acc_s, test_acc_s)\n",
        "    \"\"\"\n",
        "    (train_t, val_t, test_t) = teacher_scores\n",
        "    (train_s, val_s, test_s) = student_scores\n",
        "\n",
        "    prompt_text = (\n",
        "        f\"Saya baru saja melatih dua model GNN pada dataset CiteSeer: \"\n",
        "        f\"Teacher (3 lapisan) dan Student (2 lapisan) dengan teknik knowledge distillation.\\n\\n\"\n",
        "        f\"Hasil akhir Teacher GNN:\\n\"\n",
        "        f\"- Akurasi Train: {train_t:.2f}\\n\"\n",
        "        f\"- Akurasi Val  : {val_t:.2f}\\n\"\n",
        "        f\"- Akurasi Test : {test_t:.2f}\\n\\n\"\n",
        "        f\"Setelah distillation, Student GNN mencapai:\\n\"\n",
        "        f\"- Akurasi Train: {train_s:.2f}\\n\"\n",
        "        f\"- Akurasi Val  : {val_s:.2f}\\n\"\n",
        "        f\"- Akurasi Test : {test_s:.2f}\\n\\n\"\n",
        "        f\"Ringkaskan hasil tersebut secara singkat:\"\n",
        "    )\n",
        "\n",
        "    inputs = tokenizer.encode(prompt_text, return_tensors='pt').to(device)\n",
        "    summary_ids = gpt2_model.generate(\n",
        "        inputs,\n",
        "        max_new_tokens=150,\n",
        "        num_beams=2,\n",
        "        no_repeat_ngram_size=2,\n",
        "        early_stopping=True\n",
        "    )\n",
        "    summary = tokenizer.decode(summary_ids[0], skip_special_tokens=True)\n",
        "    return summary"
      ],
      "metadata": {
        "colab": {
          "base_uri": "https://localhost:8080/"
        },
        "id": "4PgrvgxQLEnY",
        "outputId": "49f11c34-f1f3-4934-bbed-e0b3a7268741"
      },
      "execution_count": 16,
      "outputs": [
        {
          "output_type": "stream",
          "name": "stderr",
          "text": [
            "/usr/local/lib/python3.10/dist-packages/huggingface_hub/utils/_auth.py:94: UserWarning: \n",
            "The secret `HF_TOKEN` does not exist in your Colab secrets.\n",
            "To authenticate with the Hugging Face Hub, create a token in your settings tab (https://huggingface.co/settings/tokens), set it as secret in your Google Colab and restart your session.\n",
            "You will be able to reuse this secret in all of your notebooks.\n",
            "Please note that authentication is recommended but still optional to access public models or datasets.\n",
            "  warnings.warn(\n"
          ]
        }
      ]
    },
    {
      "cell_type": "code",
      "source": [
        "teacher_scores = (train_acc_t, val_acc_t, test_acc_t)\n",
        "student_scores = (train_acc_s, val_acc_s, test_acc_s)\n",
        "summary_result = generate_summary(teacher_scores, student_scores)"
      ],
      "metadata": {
        "colab": {
          "base_uri": "https://localhost:8080/"
        },
        "id": "E5IMmkQELV5N",
        "outputId": "aa669b0c-6627-424c-ac0d-e9d329509e2c"
      },
      "execution_count": 17,
      "outputs": [
        {
          "output_type": "stream",
          "name": "stderr",
          "text": [
            "The attention mask and the pad token id were not set. As a consequence, you may observe unexpected behavior. Please pass your input's `attention_mask` to obtain reliable results.\n",
            "Setting `pad_token_id` to `eos_token_id`:50256 for open-end generation.\n",
            "The attention mask is not set and cannot be inferred from input because pad token is same as eos token. As a consequence, you may observe unexpected behavior. Please pass your input's `attention_mask` to obtain reliable results.\n"
          ]
        }
      ]
    },
    {
      "cell_type": "code",
      "source": [
        "print(\"===== RINGKASAN LLM (GPT-2) =====\")\n",
        "print(summary_result)"
      ],
      "metadata": {
        "colab": {
          "base_uri": "https://localhost:8080/"
        },
        "id": "vcmzxVCXLbfU",
        "outputId": "af800d20-b1cc-4c6a-9699-81857daefc82"
      },
      "execution_count": 18,
      "outputs": [
        {
          "output_type": "stream",
          "name": "stdout",
          "text": [
            "===== RINGKASAN LLM (GPT-2) =====\n",
            "Saya baru saja melatih dua model GNN pada dataset CiteSeer: Teacher (3 lapisan) dan Student (2 lapisan) dengan teknik knowledge distillation.\n",
            "\n",
            "Hasil akhir Teacher GNN:\n",
            "- Akurasi Train: 1.00\n",
            "- Akurasi Val  : 0.67\n",
            "- Akurasi Test : 0.63\n",
            "\n",
            "Setelah distillation, Student GNN mencapai:\n",
            "- Akurasi Train: 1.00\n",
            "- Akurasi Val  : 0.69\n",
            "- Akurasi Test : 0.69\n",
            "\n",
            "Ringkaskan hasil tersebut secara singkat: teacher gai-teacher gi-student gan-studio gani-school gana-class gansa-tribal gannam-museum gao-cities gantas-city gancho-gantar gakkad-bazaar gar-kara gatkana gayat-laboratory gah-shanty gawat gabat kara-dance gajat dal-japan gazat lama-labour gavat bazaar karat pata-shop galat nakat takka-store gala-house gagat mga-pantry gachat hu-h\n"
          ]
        }
      ]
    },
    {
      "cell_type": "markdown",
      "source": [
        "- GPT-2 yang “polos” bukanlah model summarization yang dikhususkan merangkum teks\n",
        "saintifik atau laporan hasil GNN, sehingga hasilnya bisa terlihat kacau.\n",
        "- Untuk mendapatkan ringkasan yang lebih baik, pertimbangkan menggunakan model summarization khusus, melakukan fine-tuning, atau menyesuaikan parameter decoding.\n",
        "- Dengan prompt engineering yang lebih baik dan pemilihan model yang tepat, kualitas ringkasan dapat meningkat signifikan."
      ],
      "metadata": {
        "id": "ridqui20fJg7"
      }
    }
  ]
}