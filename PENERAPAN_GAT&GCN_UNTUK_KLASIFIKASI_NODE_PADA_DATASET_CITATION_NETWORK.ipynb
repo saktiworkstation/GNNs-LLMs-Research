{
  "nbformat": 4,
  "nbformat_minor": 0,
  "metadata": {
    "colab": {
      "provenance": [],
      "authorship_tag": "ABX9TyPQWFeuSmMARjIHDmqAT6Wl",
      "include_colab_link": true
    },
    "kernelspec": {
      "name": "python3",
      "display_name": "Python 3"
    },
    "language_info": {
      "name": "python"
    }
  },
  "cells": [
    {
      "cell_type": "markdown",
      "metadata": {
        "id": "view-in-github",
        "colab_type": "text"
      },
      "source": [
        "<a href=\"https://colab.research.google.com/github/saktiworkstation/GNNs-LLMs-Research/blob/main/PENERAPAN_GAT%26GCN_UNTUK_KLASIFIKASI_NODE_PADA_DATASET_CITATION_NETWORK.ipynb\" target=\"_parent\"><img src=\"https://colab.research.google.com/assets/colab-badge.svg\" alt=\"Open In Colab\"/></a>"
      ]
    },
    {
      "cell_type": "markdown",
      "source": [
        "\n",
        "# FINAL PROJECT: PENERAPAN GRAPH NEURAL NETWORK (GNN) UNTUK KLASIFIKASI NODE PADA DATASET CITATION NETWORK DENGAN PENAMBAHAN GAT (GRAPH ATTENTION NETWORK) UNTUK MENINGKATKAN HASIL TRAINING/EVALUASI\n",
        "\n",
        "\n",
        "**LATAR BELAKANG PERMASALAHAN (Ringkas):**\n",
        "\n",
        "1. Klasifikasi node pada graph sangat penting untuk banyak aplikasi dunia nyata, seperti\n",
        "   rekomendasi konten pada social network, klasifikasi topik publikasi pada citation network, dll.\n",
        "2. GCN (Graph Convolutional Network) efektif, tetapi terkadang kurang mampu menangkap hubungan yang\n",
        "   lebih kompleks antara node. Penggunaan mekanisme attention dapat membantu.\n",
        "3. GAT (Graph Attention Network) menggunakan attention mechanism antar node tetangga, sehingga\n",
        "   setiap node dapat \"memperhatikan\" tetangga yang lebih relevan dengan bobot yang lebih besar.\n",
        "\n",
        "**TUJUAN:**\n",
        "\n",
        "1. Menambah model/algoritme GAT untuk meningkatkan hasil training dan evaluasi.\n",
        "2. Membandingkan performa GCN (baseline) dengan GAT.\n",
        "\n",
        "**METODE YANG DIUSULKAN:**\n",
        "\n",
        "1. Model Baseline: GCN (Graph Convolutional Network)\n",
        "   - 2 layer GCNConv\n",
        "   - ReLU activation\n",
        "   - Optimizer: Adam\n",
        "   - Loss: NLLLoss\n",
        "2. Model Improvement: GAT (Graph Attention Network)\n",
        "   - 2 layer GATConv dengan multi-head attention\n",
        "   - Dropout untuk mencegah overfitting\n",
        "   - Parameter heads untuk mengontrol jumlah \"attention heads\"\n",
        "   - Optimizer: Adam\n",
        "   - Loss: NLLLoss\n",
        "3. Perbandingan hasil akurasi pada validation set dan test set untuk menilai peningkatan performa.\n",
        "\n",
        "**INFORMASI DATASET:**\n",
        "\n",
        "- Dataset: \"CiteSeer\" (~3327 node)\n",
        "- Link/PyTorch Geometric (Planetoid):\n",
        "  https://pytorch-geometric.readthedocs.io/en/latest/modules/datasets.htmlorch_geometric.datasets.Planetoid\n",
        "- Fitur: node features, edge_index, label per node\n",
        "\n",
        "**KODE BERIKUT MEMUAT:**\n",
        "1. Pemasangan dan import library\n",
        "2. Memuat dataset CiteSeer\n",
        "3. EDA sederhana (sama seperti versi sebelumnya)\n",
        "4. Model GCN baseline\n",
        "5. Model GAT dengan penambahan dropout dan multi-head attention\n",
        "6. Training loop & Evaluasi\n",
        "7. Perbandingan hasil"
      ],
      "metadata": {
        "id": "dmV4WlL9uOH_"
      }
    },
    {
      "cell_type": "code",
      "source": [
        "!pip install torch-scatter torch-sparse torch-cluster torch-spline-conv -f https://data.pyg.org/whl/torch-2.1.0+cu121.html\n",
        "\n",
        "!pip install torch_geometric"
      ],
      "metadata": {
        "colab": {
          "base_uri": "https://localhost:8080/"
        },
        "id": "-GtKCrD-pfhm",
        "outputId": "f4e7ed47-d13a-411e-b76e-e9fcd6f881f7"
      },
      "execution_count": 2,
      "outputs": [
        {
          "output_type": "stream",
          "name": "stdout",
          "text": [
            "Looking in links: https://data.pyg.org/whl/torch-2.1.0+cu121.html\n",
            "Collecting torch-scatter\n",
            "  Downloading https://data.pyg.org/whl/torch-2.1.0%2Bcu121/torch_scatter-2.1.2%2Bpt21cu121-cp310-cp310-linux_x86_64.whl (10.8 MB)\n",
            "\u001b[2K     \u001b[90m━━━━━━━━━━━━━━━━━━━━━━━━━━━━━━━━━━━━━━━━\u001b[0m \u001b[32m10.8/10.8 MB\u001b[0m \u001b[31m71.0 MB/s\u001b[0m eta \u001b[36m0:00:00\u001b[0m\n",
            "\u001b[?25hCollecting torch-sparse\n",
            "  Downloading https://data.pyg.org/whl/torch-2.1.0%2Bcu121/torch_sparse-0.6.18%2Bpt21cu121-cp310-cp310-linux_x86_64.whl (5.0 MB)\n",
            "\u001b[2K     \u001b[90m━━━━━━━━━━━━━━━━━━━━━━━━━━━━━━━━━━━━━━━━\u001b[0m \u001b[32m5.0/5.0 MB\u001b[0m \u001b[31m44.9 MB/s\u001b[0m eta \u001b[36m0:00:00\u001b[0m\n",
            "\u001b[?25hCollecting torch-cluster\n",
            "  Downloading https://data.pyg.org/whl/torch-2.1.0%2Bcu121/torch_cluster-1.6.3%2Bpt21cu121-cp310-cp310-linux_x86_64.whl (3.3 MB)\n",
            "\u001b[2K     \u001b[90m━━━━━━━━━━━━━━━━━━━━━━━━━━━━━━━━━━━━━━━━\u001b[0m \u001b[32m3.3/3.3 MB\u001b[0m \u001b[31m59.2 MB/s\u001b[0m eta \u001b[36m0:00:00\u001b[0m\n",
            "\u001b[?25hCollecting torch-spline-conv\n",
            "  Downloading https://data.pyg.org/whl/torch-2.1.0%2Bcu121/torch_spline_conv-1.2.2%2Bpt21cu121-cp310-cp310-linux_x86_64.whl (932 kB)\n",
            "\u001b[2K     \u001b[90m━━━━━━━━━━━━━━━━━━━━━━━━━━━━━━━━━━━━━━━━\u001b[0m \u001b[32m932.1/932.1 kB\u001b[0m \u001b[31m41.8 MB/s\u001b[0m eta \u001b[36m0:00:00\u001b[0m\n",
            "\u001b[?25hRequirement already satisfied: scipy in /usr/local/lib/python3.10/dist-packages (from torch-sparse) (1.13.1)\n",
            "Requirement already satisfied: numpy<2.3,>=1.22.4 in /usr/local/lib/python3.10/dist-packages (from scipy->torch-sparse) (1.26.4)\n",
            "Installing collected packages: torch-spline-conv, torch-scatter, torch-sparse, torch-cluster\n",
            "Successfully installed torch-cluster-1.6.3+pt21cu121 torch-scatter-2.1.2+pt21cu121 torch-sparse-0.6.18+pt21cu121 torch-spline-conv-1.2.2+pt21cu121\n",
            "Collecting torch_geometric\n",
            "  Downloading torch_geometric-2.6.1-py3-none-any.whl.metadata (63 kB)\n",
            "\u001b[2K     \u001b[90m━━━━━━━━━━━━━━━━━━━━━━━━━━━━━━━━━━━━━━━━\u001b[0m \u001b[32m63.1/63.1 kB\u001b[0m \u001b[31m1.9 MB/s\u001b[0m eta \u001b[36m0:00:00\u001b[0m\n",
            "\u001b[?25hRequirement already satisfied: aiohttp in /usr/local/lib/python3.10/dist-packages (from torch_geometric) (3.11.10)\n",
            "Requirement already satisfied: fsspec in /usr/local/lib/python3.10/dist-packages (from torch_geometric) (2024.10.0)\n",
            "Requirement already satisfied: jinja2 in /usr/local/lib/python3.10/dist-packages (from torch_geometric) (3.1.4)\n",
            "Requirement already satisfied: numpy in /usr/local/lib/python3.10/dist-packages (from torch_geometric) (1.26.4)\n",
            "Requirement already satisfied: psutil>=5.8.0 in /usr/local/lib/python3.10/dist-packages (from torch_geometric) (5.9.5)\n",
            "Requirement already satisfied: pyparsing in /usr/local/lib/python3.10/dist-packages (from torch_geometric) (3.2.0)\n",
            "Requirement already satisfied: requests in /usr/local/lib/python3.10/dist-packages (from torch_geometric) (2.32.3)\n",
            "Requirement already satisfied: tqdm in /usr/local/lib/python3.10/dist-packages (from torch_geometric) (4.67.1)\n",
            "Requirement already satisfied: aiohappyeyeballs>=2.3.0 in /usr/local/lib/python3.10/dist-packages (from aiohttp->torch_geometric) (2.4.4)\n",
            "Requirement already satisfied: aiosignal>=1.1.2 in /usr/local/lib/python3.10/dist-packages (from aiohttp->torch_geometric) (1.3.2)\n",
            "Requirement already satisfied: async-timeout<6.0,>=4.0 in /usr/local/lib/python3.10/dist-packages (from aiohttp->torch_geometric) (4.0.3)\n",
            "Requirement already satisfied: attrs>=17.3.0 in /usr/local/lib/python3.10/dist-packages (from aiohttp->torch_geometric) (24.3.0)\n",
            "Requirement already satisfied: frozenlist>=1.1.1 in /usr/local/lib/python3.10/dist-packages (from aiohttp->torch_geometric) (1.5.0)\n",
            "Requirement already satisfied: multidict<7.0,>=4.5 in /usr/local/lib/python3.10/dist-packages (from aiohttp->torch_geometric) (6.1.0)\n",
            "Requirement already satisfied: propcache>=0.2.0 in /usr/local/lib/python3.10/dist-packages (from aiohttp->torch_geometric) (0.2.1)\n",
            "Requirement already satisfied: yarl<2.0,>=1.17.0 in /usr/local/lib/python3.10/dist-packages (from aiohttp->torch_geometric) (1.18.3)\n",
            "Requirement already satisfied: MarkupSafe>=2.0 in /usr/local/lib/python3.10/dist-packages (from jinja2->torch_geometric) (3.0.2)\n",
            "Requirement already satisfied: charset-normalizer<4,>=2 in /usr/local/lib/python3.10/dist-packages (from requests->torch_geometric) (3.4.0)\n",
            "Requirement already satisfied: idna<4,>=2.5 in /usr/local/lib/python3.10/dist-packages (from requests->torch_geometric) (3.10)\n",
            "Requirement already satisfied: urllib3<3,>=1.21.1 in /usr/local/lib/python3.10/dist-packages (from requests->torch_geometric) (2.2.3)\n",
            "Requirement already satisfied: certifi>=2017.4.17 in /usr/local/lib/python3.10/dist-packages (from requests->torch_geometric) (2024.12.14)\n",
            "Requirement already satisfied: typing-extensions>=4.1.0 in /usr/local/lib/python3.10/dist-packages (from multidict<7.0,>=4.5->aiohttp->torch_geometric) (4.12.2)\n",
            "Downloading torch_geometric-2.6.1-py3-none-any.whl (1.1 MB)\n",
            "\u001b[2K   \u001b[90m━━━━━━━━━━━━━━━━━━━━━━━━━━━━━━━━━━━━━━━━\u001b[0m \u001b[32m1.1/1.1 MB\u001b[0m \u001b[31m17.9 MB/s\u001b[0m eta \u001b[36m0:00:00\u001b[0m\n",
            "\u001b[?25hInstalling collected packages: torch_geometric\n",
            "Successfully installed torch_geometric-2.6.1\n"
          ]
        }
      ]
    },
    {
      "cell_type": "code",
      "execution_count": 19,
      "metadata": {
        "id": "oty2N52flxZz"
      },
      "outputs": [],
      "source": [
        "import torch\n",
        "import torch.nn.functional as F\n",
        "from torch_geometric.datasets import Planetoid\n",
        "from torch_geometric.nn import GCNConv, GATConv\n",
        "import matplotlib.pyplot as plt\n",
        "import networkx as nx"
      ]
    },
    {
      "cell_type": "code",
      "source": [
        "dataset_name = 'CiteSeer'\n",
        "dataset = Planetoid(root='data/CiteSeer', name=dataset_name)\n",
        "\n",
        "data = dataset[0]"
      ],
      "metadata": {
        "colab": {
          "base_uri": "https://localhost:8080/"
        },
        "id": "iCqym_Tkpmrh",
        "outputId": "16247445-017a-4e30-a7a1-ad887cdc5727"
      },
      "execution_count": 4,
      "outputs": [
        {
          "output_type": "stream",
          "name": "stderr",
          "text": [
            "Downloading https://github.com/kimiyoung/planetoid/raw/master/data/ind.citeseer.x\n",
            "Downloading https://github.com/kimiyoung/planetoid/raw/master/data/ind.citeseer.tx\n",
            "Downloading https://github.com/kimiyoung/planetoid/raw/master/data/ind.citeseer.allx\n",
            "Downloading https://github.com/kimiyoung/planetoid/raw/master/data/ind.citeseer.y\n",
            "Downloading https://github.com/kimiyoung/planetoid/raw/master/data/ind.citeseer.ty\n",
            "Downloading https://github.com/kimiyoung/planetoid/raw/master/data/ind.citeseer.ally\n",
            "Downloading https://github.com/kimiyoung/planetoid/raw/master/data/ind.citeseer.graph\n",
            "Downloading https://github.com/kimiyoung/planetoid/raw/master/data/ind.citeseer.test.index\n",
            "Processing...\n",
            "Done!\n"
          ]
        }
      ]
    },
    {
      "cell_type": "markdown",
      "source": [
        "**EDA SEDERHANA**"
      ],
      "metadata": {
        "id": "hALF_7QFsSPI"
      }
    },
    {
      "cell_type": "code",
      "source": [
        "print(\"=== INFORMASI DATASET ===\")\n",
        "print(f\"Nama Dataset          : {dataset_name}\")\n",
        "print(f\"Jumlah Graph          : {len(dataset)}\")\n",
        "print(f\"Jumlah Node           : {data.num_nodes}\")\n",
        "print(f\"Jumlah Edge           : {data.num_edges}\")\n",
        "print(f\"Jumlah Fitur per Node : {data.num_node_features}\")\n",
        "print(f\"Jumlah Kelas          : {dataset.num_classes}\")\n",
        "print(\"Fitur data            :\", data)"
      ],
      "metadata": {
        "colab": {
          "base_uri": "https://localhost:8080/"
        },
        "id": "Ck8SFCZepyI-",
        "outputId": "e197dedc-804c-4835-a0c6-14dc37648826"
      },
      "execution_count": 5,
      "outputs": [
        {
          "output_type": "stream",
          "name": "stdout",
          "text": [
            "=== INFORMASI DATASET ===\n",
            "Nama Dataset          : CiteSeer\n",
            "Jumlah Graph          : 1\n",
            "Jumlah Node           : 3327\n",
            "Jumlah Edge           : 9104\n",
            "Jumlah Fitur per Node : 3703\n",
            "Jumlah Kelas          : 6\n",
            "Fitur data            : Data(x=[3327, 3703], edge_index=[2, 9104], y=[3327], train_mask=[3327], val_mask=[3327], test_mask=[3327])\n"
          ]
        }
      ]
    },
    {
      "cell_type": "code",
      "source": [
        "labels = data.y\n",
        "unique_labels, counts_labels = torch.unique(labels, return_counts=True)\n",
        "print(\"\\n=== DISTRIBUSI KELAS ===\")\n",
        "for lab, count in zip(unique_labels, counts_labels):\n",
        "    print(f\"Kelas {lab.item()}: {count.item()} node\")"
      ],
      "metadata": {
        "colab": {
          "base_uri": "https://localhost:8080/"
        },
        "id": "r75b2Ow3p1eo",
        "outputId": "37f69ebf-9b2a-408b-b05a-9ed5987aa757"
      },
      "execution_count": 6,
      "outputs": [
        {
          "output_type": "stream",
          "name": "stdout",
          "text": [
            "\n",
            "=== DISTRIBUSI KELAS ===\n",
            "Kelas 0: 264 node\n",
            "Kelas 1: 590 node\n",
            "Kelas 2: 668 node\n",
            "Kelas 3: 701 node\n",
            "Kelas 4: 596 node\n",
            "Kelas 5: 508 node\n"
          ]
        }
      ]
    },
    {
      "cell_type": "code",
      "source": [
        "print(\"\\n=== EDGE SAMPLE ===\")\n",
        "print(data.edge_index[:, :10])"
      ],
      "metadata": {
        "colab": {
          "base_uri": "https://localhost:8080/"
        },
        "id": "_GrMSVJfp34p",
        "outputId": "47fc6ea1-58f6-42e0-d386-da8299035955"
      },
      "execution_count": 7,
      "outputs": [
        {
          "output_type": "stream",
          "name": "stdout",
          "text": [
            "\n",
            "=== EDGE SAMPLE ===\n",
            "tensor([[ 628,  158,  486, 1097, 2919, 2933, 3285, 1431, 3219,  467],\n",
            "        [   0,    1,    1,    1,    1,    1,    2,    3,    3,    4]])\n"
          ]
        }
      ]
    },
    {
      "cell_type": "code",
      "source": [
        "sub_node_count = 677\n",
        "sub_edge_mask = (data.edge_index[0] < sub_node_count) & (data.edge_index[1] < sub_node_count)\n",
        "sub_edge_index = data.edge_index[:, sub_edge_mask]\n",
        "\n",
        "sub_G = nx.Graph()\n",
        "sub_edges = list(zip(sub_edge_index[0].tolist(), sub_edge_index[1].tolist()))\n",
        "sub_G.add_edges_from(sub_edges)\n",
        "\n",
        "plt.figure(figsize=(8, 6))\n",
        "nx.draw(sub_G, node_size=50)\n",
        "plt.title(\"Sub-graph Visualisasi (500 Node Pertama)\")\n",
        "plt.show()"
      ],
      "metadata": {
        "colab": {
          "base_uri": "https://localhost:8080/",
          "height": 659
        },
        "id": "dwO8F1Qzp7T4",
        "outputId": "ad10fe3f-97d9-4203-cdc9-72776f216ea1"
      },
      "execution_count": 12,
      "outputs": [
        {
          "output_type": "display_data",
          "data": {
            "text/plain": [
              "<Figure size 800x600 with 1 Axes>"
            ],
            "image/png": "[encoded data removed]"
          },
          "metadata": {}
        }
      ]
    },
    {
      "cell_type": "markdown",
      "source": [
        "**MODEL BASELINE: GCN (2 Layer GCN)**"
      ],
      "metadata": {
        "id": "GycJHMuErvCa"
      }
    },
    {
      "cell_type": "code",
      "source": [
        "class GCNBaseline(torch.nn.Module):\n",
        "    def __init__(self, input_dim, hidden_dim, output_dim):\n",
        "        super(GCNBaseline, self).__init__()\n",
        "        self.conv1 = GCNConv(input_dim, hidden_dim)\n",
        "        self.conv2 = GCNConv(hidden_dim, output_dim)\n",
        "\n",
        "    def forward(self, x, edge_index):\n",
        "        x = self.conv1(x, edge_index)\n",
        "        x = F.relu(x)\n",
        "        x = self.conv2(x, edge_index)\n",
        "        return F.log_softmax(x, dim=1)"
      ],
      "metadata": {
        "id": "ktfS_PpLryxV"
      },
      "execution_count": 18,
      "outputs": []
    },
    {
      "cell_type": "markdown",
      "source": [
        "**MODEL IMPROVEMENT: GAT (2 Layer GAT)**"
      ],
      "metadata": {
        "id": "EN0O3Yqgr3mZ"
      }
    },
    {
      "cell_type": "code",
      "source": [
        "class GATNet(torch.nn.Module):\n",
        "    def __init__(self, input_dim, hidden_dim, output_dim, heads=8, dropout=0.6):\n",
        "        super(GATNet, self).__init__()\n",
        "        # GATConv pertama\n",
        "        self.gat1 = GATConv(in_channels=input_dim,\n",
        "                            out_channels=hidden_dim,\n",
        "                            heads=heads,\n",
        "                            dropout=dropout)\n",
        "        # GATConv kedua\n",
        "        # Di layer kedua, biasanya out_channels diset agar total dimension = hidden_dim*heads\n",
        "        # atau menyesuaikan. Di sini kita ingin output sebanyak \"output_dim\" untuk klasifikasi.\n",
        "        # heads=1 di layer kedua agar dimension = output_dim\n",
        "        self.gat2 = GATConv(in_channels=hidden_dim*heads,\n",
        "                            out_channels=output_dim,\n",
        "                            heads=1,\n",
        "                            dropout=dropout)\n",
        "\n",
        "        self.dropout = dropout\n",
        "\n",
        "    def forward(self, x, edge_index):\n",
        "        x = self.gat1(x, edge_index)\n",
        "        x = F.elu(x)  # ELU\n",
        "        x = F.dropout(x, p=self.dropout, training=self.training)\n",
        "        x = self.gat2(x, edge_index)\n",
        "        return F.log_softmax(x, dim=1)"
      ],
      "metadata": {
        "id": "oeSWY97er7H5"
      },
      "execution_count": 20,
      "outputs": []
    },
    {
      "cell_type": "markdown",
      "source": [
        "**TRAINING LOOP & EVALUASI**"
      ],
      "metadata": {
        "id": "UYjq1YbEsPjG"
      }
    },
    {
      "cell_type": "code",
      "source": [
        "device = torch.device('cuda' if torch.cuda.is_available() else 'cpu')\n",
        "data = data.to(device)\n",
        "\n",
        "def train(model, data, optimizer):\n",
        "    model.train()\n",
        "    optimizer.zero_grad()\n",
        "    out = model(data.x, data.edge_index)\n",
        "    loss = F.nll_loss(out[data.train_mask], data.y[data.train_mask])\n",
        "    loss.backward()\n",
        "    optimizer.step()\n",
        "    return loss.item()\n",
        "\n",
        "def test(model, data):\n",
        "    model.eval()\n",
        "    out = model(data.x, data.edge_index)\n",
        "    preds = out.argmax(dim=1)\n",
        "    accs = []\n",
        "    for mask_name in ['train_mask', 'val_mask', 'test_mask']:\n",
        "        mask = getattr(data, mask_name)\n",
        "        correct = preds[mask].eq(data.y[mask]).sum().item()\n",
        "        acc = correct / mask.sum().item()\n",
        "        accs.append(acc)\n",
        "    return accs  # [train_acc, val_acc, test_acc]"
      ],
      "metadata": {
        "id": "RFfEOXhPsZaL"
      },
      "execution_count": 21,
      "outputs": []
    },
    {
      "cell_type": "markdown",
      "source": [
        "**Training & Evaluasi GCN**"
      ],
      "metadata": {
        "id": "-qAzZXtRscxX"
      }
    },
    {
      "cell_type": "code",
      "source": [
        "gcn_model = GCNBaseline(input_dim=dataset.num_node_features,\n",
        "                        hidden_dim=16,\n",
        "                        output_dim=dataset.num_classes).to(device)\n",
        "optimizer_gcn = torch.optim.Adam(gcn_model.parameters(), lr=0.01, weight_decay=5e-4)\n",
        "\n",
        "best_val_acc_gcn = 0\n",
        "best_test_acc_gcn = 0\n",
        "epochs = 200\n",
        "\n",
        "print(\"\\n=== TRAINING GCN BASELINE ===\")\n",
        "for epoch in range(1, epochs+1):\n",
        "    loss_gcn = train(gcn_model, data, optimizer_gcn)\n",
        "    train_acc_gcn, val_acc_gcn, test_acc_gcn = test(gcn_model, data)\n",
        "\n",
        "    if val_acc_gcn > best_val_acc_gcn:\n",
        "        best_val_acc_gcn = val_acc_gcn\n",
        "        best_test_acc_gcn = test_acc_gcn\n",
        "\n",
        "    if epoch % 20 == 0:\n",
        "        print(f\"Epoch: {epoch:03d}, Loss: {loss_gcn:.4f}, \"\n",
        "              f\"Train Acc: {train_acc_gcn:.4f}, Val Acc: {val_acc_gcn:.4f}, Test Acc: {test_acc_gcn:.4f}\")\n",
        "\n",
        "print(\"\\n=== HASIL AKHIR GCN BASELINE ===\")\n",
        "print(f\"Best Val Accuracy (GCN)      : {best_val_acc_gcn:.4f}\")\n",
        "print(f\"Test Accuracy (GCN, Val terbaik) : {best_test_acc_gcn:.4f}\")"
      ],
      "metadata": {
        "colab": {
          "base_uri": "https://localhost:8080/"
        },
        "id": "9ayVXDGcsnKa",
        "outputId": "9a8d0351-4e6a-439b-bb5a-d253150011f7"
      },
      "execution_count": 22,
      "outputs": [
        {
          "output_type": "stream",
          "name": "stdout",
          "text": [
            "\n",
            "=== TRAINING GCN BASELINE ===\n",
            "Epoch: 020, Loss: 0.0230, Train Acc: 1.0000, Val Acc: 0.6400, Test Acc: 0.6420\n",
            "Epoch: 040, Loss: 0.0068, Train Acc: 1.0000, Val Acc: 0.6760, Test Acc: 0.6630\n",
            "Epoch: 060, Loss: 0.0108, Train Acc: 1.0000, Val Acc: 0.6780, Test Acc: 0.6750\n",
            "Epoch: 080, Loss: 0.0117, Train Acc: 1.0000, Val Acc: 0.6780, Test Acc: 0.6790\n",
            "Epoch: 100, Loss: 0.0104, Train Acc: 1.0000, Val Acc: 0.6880, Test Acc: 0.6780\n",
            "Epoch: 120, Loss: 0.0095, Train Acc: 1.0000, Val Acc: 0.6840, Test Acc: 0.6810\n",
            "Epoch: 140, Loss: 0.0087, Train Acc: 1.0000, Val Acc: 0.6840, Test Acc: 0.6820\n",
            "Epoch: 160, Loss: 0.0080, Train Acc: 1.0000, Val Acc: 0.6860, Test Acc: 0.6820\n",
            "Epoch: 180, Loss: 0.0075, Train Acc: 1.0000, Val Acc: 0.6860, Test Acc: 0.6790\n",
            "Epoch: 200, Loss: 0.0071, Train Acc: 1.0000, Val Acc: 0.6880, Test Acc: 0.6760\n",
            "\n",
            "=== HASIL AKHIR GCN BASELINE ===\n",
            "Best Val Accuracy (GCN)      : 0.6900\n",
            "Test Accuracy (GCN, Val terbaik) : 0.6800\n"
          ]
        }
      ]
    },
    {
      "cell_type": "markdown",
      "source": [
        "**Training & Evaluasi GAT**"
      ],
      "metadata": {
        "id": "ytrypqlgsqDB"
      }
    },
    {
      "cell_type": "code",
      "source": [
        "gat_model = GATNet(input_dim=dataset.num_node_features,\n",
        "                   hidden_dim=8,\n",
        "                   output_dim=dataset.num_classes,\n",
        "                   heads=8,\n",
        "                   dropout=0.6).to(device)\n",
        "optimizer_gat = torch.optim.Adam(gat_model.parameters(), lr=0.005, weight_decay=5e-4)\n",
        "\n",
        "best_val_acc_gat = 0\n",
        "best_test_acc_gat = 0\n",
        "\n",
        "print(\"\\n=== TRAINING GAT MODEL ===\")\n",
        "for epoch in range(1, epochs+1):\n",
        "    loss_gat = train(gat_model, data, optimizer_gat)\n",
        "    train_acc_gat, val_acc_gat, test_acc_gat = test(gat_model, data)\n",
        "\n",
        "    if val_acc_gat > best_val_acc_gat:\n",
        "        best_val_acc_gat = val_acc_gat\n",
        "        best_test_acc_gat = test_acc_gat\n",
        "\n",
        "    if epoch % 20 == 0:\n",
        "        print(f\"Epoch: {epoch:03d}, Loss: {loss_gat:.4f}, \"\n",
        "              f\"Train Acc: {train_acc_gat:.4f}, Val Acc: {val_acc_gat:.4f}, Test Acc: {test_acc_gat:.4f}\")\n",
        "\n",
        "print(\"\\n=== HASIL AKHIR GAT MODEL ===\")\n",
        "print(f\"Best Val Accuracy (GAT)      : {best_val_acc_gat:.4f}\")\n",
        "print(f\"Test Accuracy (GAT, Val terbaik) : {best_test_acc_gat:.4f}\")"
      ],
      "metadata": {
        "colab": {
          "base_uri": "https://localhost:8080/"
        },
        "id": "lGBQHmWVsu_G",
        "outputId": "29ecea0a-18f7-4895-fbc4-db3b7205472d"
      },
      "execution_count": 23,
      "outputs": [
        {
          "output_type": "stream",
          "name": "stdout",
          "text": [
            "\n",
            "=== TRAINING GAT MODEL ===\n",
            "Epoch: 020, Loss: 0.7901, Train Acc: 0.9667, Val Acc: 0.6900, Test Acc: 0.6980\n",
            "Epoch: 040, Loss: 0.4764, Train Acc: 1.0000, Val Acc: 0.6620, Test Acc: 0.6740\n",
            "Epoch: 060, Loss: 0.4191, Train Acc: 1.0000, Val Acc: 0.6600, Test Acc: 0.6740\n",
            "Epoch: 080, Loss: 0.4389, Train Acc: 1.0000, Val Acc: 0.6620, Test Acc: 0.6710\n",
            "Epoch: 100, Loss: 0.5337, Train Acc: 1.0000, Val Acc: 0.6700, Test Acc: 0.6800\n",
            "Epoch: 120, Loss: 0.4772, Train Acc: 1.0000, Val Acc: 0.6700, Test Acc: 0.6720\n",
            "Epoch: 140, Loss: 0.3701, Train Acc: 1.0000, Val Acc: 0.6680, Test Acc: 0.6750\n",
            "Epoch: 160, Loss: 0.3571, Train Acc: 1.0000, Val Acc: 0.6540, Test Acc: 0.6590\n",
            "Epoch: 180, Loss: 0.4729, Train Acc: 1.0000, Val Acc: 0.6740, Test Acc: 0.6850\n",
            "Epoch: 200, Loss: 0.5071, Train Acc: 1.0000, Val Acc: 0.6740, Test Acc: 0.6840\n",
            "\n",
            "=== HASIL AKHIR GAT MODEL ===\n",
            "Best Val Accuracy (GAT)      : 0.7040\n",
            "Test Accuracy (GAT, Val terbaik) : 0.7160\n"
          ]
        }
      ]
    },
    {
      "cell_type": "markdown",
      "source": [
        "**PERBANDINGAN HASIL GAT&GCN**"
      ],
      "metadata": {
        "id": "EdStV7FaszVU"
      }
    },
    {
      "cell_type": "code",
      "source": [
        "print(\"\\n===============================\")\n",
        "print(\"   PERBANDINGAN MODEL GCN vs GAT\")\n",
        "print(\"===============================\")\n",
        "print(f\"GCN   -> Val: {best_val_acc_gcn:.4f} | Test (Val terbaik): {best_test_acc_gcn:.4f}\")\n",
        "print(f\"GAT   -> Val: {best_val_acc_gat:.4f} | Test (Val terbaik): {best_test_acc_gat:.4f}\")\n",
        "print(\"\\nCatatan: Model GAT dapat mengungguli GCN, terutama pada dataset yang kompleks.\")\n",
        "print(\"         Namun, hasil akhir juga dapat dipengaruhi oleh hyperparameter (hidden dim, heads, lr).\")"
      ],
      "metadata": {
        "colab": {
          "base_uri": "https://localhost:8080/"
        },
        "id": "rFB6ZiKDs6eg",
        "outputId": "cbbf4ff4-34de-46ce-8782-e88a997c9733"
      },
      "execution_count": 25,
      "outputs": [
        {
          "output_type": "stream",
          "name": "stdout",
          "text": [
            "\n",
            "===============================\n",
            "   PERBANDINGAN MODEL GCN vs GAT\n",
            "===============================\n",
            "GCN   -> Val: 0.6900 | Test (Val terbaik): 0.6800\n",
            "GAT   -> Val: 0.7040 | Test (Val terbaik): 0.7160\n",
            "\n",
            "Catatan: Model GAT dapat mengungguli GCN, terutama pada dataset yang kompleks.\n",
            "         Namun, hasil akhir juga dapat dipengaruhi oleh hyperparameter (hidden dim, heads, lr).\n"
          ]
        }
      ]
    },
    {
      "cell_type": "markdown",
      "source": [
        "# RANGKUMAN:\n",
        "\n",
        "\n",
        "---\n",
        "\n",
        "\n",
        "1. Model baseline (GCN) telah dilatih dan dievaluasi.\n",
        "2. Model GAT menggunakan mekanisme attention dengan beberapa heads dan dropout 0.6 untuk mencegah overfitting.\n",
        "3. Pada kasus data diatas GAT memberikan peningkatan akurasi pada validasi dan test.\n",
        "4. Pengguna dapat menyesuaikan hyperparameter (hidden_dim, heads, dropout, lr, dll.) untuk hasil yang lebih optimal."
      ],
      "metadata": {
        "id": "KhVKX6XntdAz"
      }
    }
  ]
}