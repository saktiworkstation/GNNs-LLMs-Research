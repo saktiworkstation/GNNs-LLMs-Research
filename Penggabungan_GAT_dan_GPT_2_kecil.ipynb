{
  "nbformat": 4,
  "nbformat_minor": 0,
  "metadata": {
    "colab": {
      "provenance": [],
      "authorship_tag": "ABX9TyOtX06WU9Fp1R+MnS5o4g/7",
      "include_colab_link": true
    },
    "kernelspec": {
      "name": "python3",
      "display_name": "Python 3"
    },
    "language_info": {
      "name": "python"
    }
  },
  "cells": [
    {
      "cell_type": "markdown",
      "metadata": {
        "id": "view-in-github",
        "colab_type": "text"
      },
      "source": [
        "<a href=\"https://colab.research.google.com/github/saktiworkstation/GNNs-LLMs-Research/blob/main/Penggabungan_GAT_dan_GPT_2_kecil.ipynb\" target=\"_parent\"><img src=\"https://colab.research.google.com/assets/colab-badge.svg\" alt=\"Open In Colab\"/></a>"
      ]
    },
    {
      "cell_type": "code",
      "source": [
        "!pip install torch-geometric"
      ],
      "metadata": {
        "colab": {
          "base_uri": "https://localhost:8080/"
        },
        "id": "XGm4ghwT19lx",
        "outputId": "eb06e0eb-bac8-4bc0-e7ef-cf310adab3e8"
      },
      "execution_count": 1,
      "outputs": [
        {
          "output_type": "stream",
          "name": "stdout",
          "text": [
            "Collecting torch-geometric\n",
            "  Downloading torch_geometric-2.6.1-py3-none-any.whl.metadata (63 kB)\n",
            "\u001b[?25l     \u001b[90m━━━━━━━━━━━━━━━━━━━━━━━━━━━━━━━━━━━━━━━━\u001b[0m \u001b[32m0.0/63.1 kB\u001b[0m \u001b[31m?\u001b[0m eta \u001b[36m-:--:--\u001b[0m\r\u001b[2K     \u001b[90m━━━━━━━━━━━━━━━━━━━━━━━━━━━━━━━━━━━━━━━━\u001b[0m \u001b[32m63.1/63.1 kB\u001b[0m \u001b[31m5.2 MB/s\u001b[0m eta \u001b[36m0:00:00\u001b[0m\n",
            "\u001b[?25hRequirement already satisfied: aiohttp in /usr/local/lib/python3.10/dist-packages (from torch-geometric) (3.11.11)\n",
            "Requirement already satisfied: fsspec in /usr/local/lib/python3.10/dist-packages (from torch-geometric) (2024.10.0)\n",
            "Requirement already satisfied: jinja2 in /usr/local/lib/python3.10/dist-packages (from torch-geometric) (3.1.5)\n",
            "Requirement already satisfied: numpy in /usr/local/lib/python3.10/dist-packages (from torch-geometric) (1.26.4)\n",
            "Requirement already satisfied: psutil>=5.8.0 in /usr/local/lib/python3.10/dist-packages (from torch-geometric) (5.9.5)\n",
            "Requirement already satisfied: pyparsing in /usr/local/lib/python3.10/dist-packages (from torch-geometric) (3.2.1)\n",
            "Requirement already satisfied: requests in /usr/local/lib/python3.10/dist-packages (from torch-geometric) (2.32.3)\n",
            "Requirement already satisfied: tqdm in /usr/local/lib/python3.10/dist-packages (from torch-geometric) (4.67.1)\n",
            "Requirement already satisfied: aiohappyeyeballs>=2.3.0 in /usr/local/lib/python3.10/dist-packages (from aiohttp->torch-geometric) (2.4.4)\n",
            "Requirement already satisfied: aiosignal>=1.1.2 in /usr/local/lib/python3.10/dist-packages (from aiohttp->torch-geometric) (1.3.2)\n",
            "Requirement already satisfied: async-timeout<6.0,>=4.0 in /usr/local/lib/python3.10/dist-packages (from aiohttp->torch-geometric) (4.0.3)\n",
            "Requirement already satisfied: attrs>=17.3.0 in /usr/local/lib/python3.10/dist-packages (from aiohttp->torch-geometric) (24.3.0)\n",
            "Requirement already satisfied: frozenlist>=1.1.1 in /usr/local/lib/python3.10/dist-packages (from aiohttp->torch-geometric) (1.5.0)\n",
            "Requirement already satisfied: multidict<7.0,>=4.5 in /usr/local/lib/python3.10/dist-packages (from aiohttp->torch-geometric) (6.1.0)\n",
            "Requirement already satisfied: propcache>=0.2.0 in /usr/local/lib/python3.10/dist-packages (from aiohttp->torch-geometric) (0.2.1)\n",
            "Requirement already satisfied: yarl<2.0,>=1.17.0 in /usr/local/lib/python3.10/dist-packages (from aiohttp->torch-geometric) (1.18.3)\n",
            "Requirement already satisfied: MarkupSafe>=2.0 in /usr/local/lib/python3.10/dist-packages (from jinja2->torch-geometric) (3.0.2)\n",
            "Requirement already satisfied: charset-normalizer<4,>=2 in /usr/local/lib/python3.10/dist-packages (from requests->torch-geometric) (3.4.1)\n",
            "Requirement already satisfied: idna<4,>=2.5 in /usr/local/lib/python3.10/dist-packages (from requests->torch-geometric) (3.10)\n",
            "Requirement already satisfied: urllib3<3,>=1.21.1 in /usr/local/lib/python3.10/dist-packages (from requests->torch-geometric) (2.3.0)\n",
            "Requirement already satisfied: certifi>=2017.4.17 in /usr/local/lib/python3.10/dist-packages (from requests->torch-geometric) (2024.12.14)\n",
            "Requirement already satisfied: typing-extensions>=4.1.0 in /usr/local/lib/python3.10/dist-packages (from multidict<7.0,>=4.5->aiohttp->torch-geometric) (4.12.2)\n",
            "Downloading torch_geometric-2.6.1-py3-none-any.whl (1.1 MB)\n",
            "\u001b[2K   \u001b[90m━━━━━━━━━━━━━━━━━━━━━━━━━━━━━━━━━━━━━━━━\u001b[0m \u001b[32m1.1/1.1 MB\u001b[0m \u001b[31m17.6 MB/s\u001b[0m eta \u001b[36m0:00:00\u001b[0m\n",
            "\u001b[?25hInstalling collected packages: torch-geometric\n",
            "Successfully installed torch-geometric-2.6.1\n"
          ]
        }
      ]
    },
    {
      "cell_type": "code",
      "execution_count": 2,
      "metadata": {
        "colab": {
          "base_uri": "https://localhost:8080/"
        },
        "id": "JSDI6l770pbm",
        "outputId": "dac588f0-7232-4ee9-89ee-9fab5b70bf54"
      },
      "outputs": [
        {
          "output_type": "stream",
          "name": "stdout",
          "text": [
            "Requirement already satisfied: transformers in /usr/local/lib/python3.10/dist-packages (4.47.1)\n",
            "Requirement already satisfied: filelock in /usr/local/lib/python3.10/dist-packages (from transformers) (3.16.1)\n",
            "Requirement already satisfied: huggingface-hub<1.0,>=0.24.0 in /usr/local/lib/python3.10/dist-packages (from transformers) (0.27.1)\n",
            "Requirement already satisfied: numpy>=1.17 in /usr/local/lib/python3.10/dist-packages (from transformers) (1.26.4)\n",
            "Requirement already satisfied: packaging>=20.0 in /usr/local/lib/python3.10/dist-packages (from transformers) (24.2)\n",
            "Requirement already satisfied: pyyaml>=5.1 in /usr/local/lib/python3.10/dist-packages (from transformers) (6.0.2)\n",
            "Requirement already satisfied: regex!=2019.12.17 in /usr/local/lib/python3.10/dist-packages (from transformers) (2024.11.6)\n",
            "Requirement already satisfied: requests in /usr/local/lib/python3.10/dist-packages (from transformers) (2.32.3)\n",
            "Requirement already satisfied: tokenizers<0.22,>=0.21 in /usr/local/lib/python3.10/dist-packages (from transformers) (0.21.0)\n",
            "Requirement already satisfied: safetensors>=0.4.1 in /usr/local/lib/python3.10/dist-packages (from transformers) (0.5.1)\n",
            "Requirement already satisfied: tqdm>=4.27 in /usr/local/lib/python3.10/dist-packages (from transformers) (4.67.1)\n",
            "Requirement already satisfied: fsspec>=2023.5.0 in /usr/local/lib/python3.10/dist-packages (from huggingface-hub<1.0,>=0.24.0->transformers) (2024.10.0)\n",
            "Requirement already satisfied: typing-extensions>=3.7.4.3 in /usr/local/lib/python3.10/dist-packages (from huggingface-hub<1.0,>=0.24.0->transformers) (4.12.2)\n",
            "Requirement already satisfied: charset-normalizer<4,>=2 in /usr/local/lib/python3.10/dist-packages (from requests->transformers) (3.4.1)\n",
            "Requirement already satisfied: idna<4,>=2.5 in /usr/local/lib/python3.10/dist-packages (from requests->transformers) (3.10)\n",
            "Requirement already satisfied: urllib3<3,>=1.21.1 in /usr/local/lib/python3.10/dist-packages (from requests->transformers) (2.3.0)\n",
            "Requirement already satisfied: certifi>=2017.4.17 in /usr/local/lib/python3.10/dist-packages (from requests->transformers) (2024.12.14)\n"
          ]
        }
      ],
      "source": [
        "import torch\n",
        "import torch.nn.functional as F\n",
        "from torch_geometric.datasets import Planetoid\n",
        "from torch_geometric.nn import GCNConv\n",
        "from torch_geometric.loader import DataLoader\n",
        "\n",
        "!pip install transformers\n",
        "from transformers import AutoModelForCausalLM, AutoTokenizer"
      ]
    },
    {
      "cell_type": "code",
      "source": [
        "dataset_name = 'CiteSeer'\n",
        "dataset = Planetoid(root='data/CiteSeer', name=dataset_name)\n",
        "\n",
        "data = dataset[0]"
      ],
      "metadata": {
        "colab": {
          "base_uri": "https://localhost:8080/"
        },
        "id": "H1MZXlLs3ecu",
        "outputId": "19991351-b070-45db-9a45-acd1eea2607a"
      },
      "execution_count": 3,
      "outputs": [
        {
          "output_type": "stream",
          "name": "stderr",
          "text": [
            "Downloading https://github.com/kimiyoung/planetoid/raw/master/data/ind.citeseer.x\n",
            "Downloading https://github.com/kimiyoung/planetoid/raw/master/data/ind.citeseer.tx\n",
            "Downloading https://github.com/kimiyoung/planetoid/raw/master/data/ind.citeseer.allx\n",
            "Downloading https://github.com/kimiyoung/planetoid/raw/master/data/ind.citeseer.y\n",
            "Downloading https://github.com/kimiyoung/planetoid/raw/master/data/ind.citeseer.ty\n",
            "Downloading https://github.com/kimiyoung/planetoid/raw/master/data/ind.citeseer.ally\n",
            "Downloading https://github.com/kimiyoung/planetoid/raw/master/data/ind.citeseer.graph\n",
            "Downloading https://github.com/kimiyoung/planetoid/raw/master/data/ind.citeseer.test.index\n",
            "Processing...\n",
            "Done!\n"
          ]
        }
      ]
    },
    {
      "cell_type": "code",
      "source": [
        "print(\"===== INFORMASI DATASET =====\")\n",
        "print(f\"Nama Dataset      : {dataset_name}\")\n",
        "print(f\"Jumlah Graph      : {len(dataset)}\")\n",
        "print(f\"Jumlah Fitur      : {dataset.num_features}\")\n",
        "print(f\"Jumlah Kelas      : {dataset.num_classes}\")\n",
        "print(f\"Jumlah Node       : {data.num_nodes}\")\n",
        "print(f\"Jumlah Edge       : {data.num_edges}\")\n",
        "print(f\"Average Node Degree : {data.num_edges / data.num_nodes:.2f}\")\n",
        "print(f\"Jumlah Training Nodes : {data.train_mask.sum().item()}\")\n",
        "print(f\"Jumlah Validation Nodes : {data.val_mask.sum().item()}\")\n",
        "print(f\"Jumlah Test Nodes : {data.test_mask.sum().item()}\\n\")"
      ],
      "metadata": {
        "colab": {
          "base_uri": "https://localhost:8080/"
        },
        "id": "B59kZxxi32PQ",
        "outputId": "d9e415df-2337-44c2-b0e6-9e44d34bd0d8"
      },
      "execution_count": 4,
      "outputs": [
        {
          "output_type": "stream",
          "name": "stdout",
          "text": [
            "===== INFORMASI DATASET =====\n",
            "Nama Dataset      : CiteSeer\n",
            "Jumlah Graph      : 1\n",
            "Jumlah Fitur      : 3703\n",
            "Jumlah Kelas      : 6\n",
            "Jumlah Node       : 3327\n",
            "Jumlah Edge       : 9104\n",
            "Average Node Degree : 2.74\n",
            "Jumlah Training Nodes : 120\n",
            "Jumlah Validation Nodes : 500\n",
            "Jumlah Test Nodes : 1000\n",
            "\n"
          ]
        }
      ]
    },
    {
      "cell_type": "code",
      "source": [
        "labels = data.y\n",
        "unique_labels, counts_labels = torch.unique(labels, return_counts=True)\n",
        "print(\"\\n=== DISTRIBUSI KELAS ===\")\n",
        "for lab, count in zip(unique_labels, counts_labels):\n",
        "    print(f\"Kelas {lab.item()}: {count.item()} node\")\n",
        "\n",
        "print(\"\\n=== EDGE SAMPLE ===\")\n",
        "print(data.edge_index[:, :10])"
      ],
      "metadata": {
        "colab": {
          "base_uri": "https://localhost:8080/"
        },
        "id": "7GvYoMYi4Hfr",
        "outputId": "8bb033ff-f3b9-4ae3-a51c-7b34edb20692"
      },
      "execution_count": 5,
      "outputs": [
        {
          "output_type": "stream",
          "name": "stdout",
          "text": [
            "\n",
            "=== DISTRIBUSI KELAS ===\n",
            "Kelas 0: 264 node\n",
            "Kelas 1: 590 node\n",
            "Kelas 2: 668 node\n",
            "Kelas 3: 701 node\n",
            "Kelas 4: 596 node\n",
            "Kelas 5: 508 node\n",
            "\n",
            "=== EDGE SAMPLE ===\n",
            "tensor([[ 628,  158,  486, 1097, 2919, 2933, 3285, 1431, 3219,  467],\n",
            "        [   0,    1,    1,    1,    1,    1,    2,    3,    3,    4]])\n"
          ]
        }
      ]
    },
    {
      "cell_type": "code",
      "source": [
        "import matplotlib.pyplot as plt\n",
        "import networkx as nx\n",
        "\n",
        "sub_node_count = 500\n",
        "sub_edge_mask = (data.edge_index[0] < sub_node_count) & (data.edge_index[1] < sub_node_count)\n",
        "sub_edge_index = data.edge_index[:, sub_edge_mask]\n",
        "\n",
        "sub_G = nx.Graph()\n",
        "sub_edges = list(zip(sub_edge_index[0].tolist(), sub_edge_index[1].tolist()))\n",
        "sub_G.add_edges_from(sub_edges)\n",
        "\n",
        "plt.figure(figsize=(8, 6))\n",
        "nx.draw(sub_G, node_size=50)\n",
        "plt.title(\"Sub-graph Visualisasi (500 Node Pertama)\")\n",
        "plt.show()"
      ],
      "metadata": {
        "colab": {
          "base_uri": "https://localhost:8080/",
          "height": 659
        },
        "id": "deYilj1g4Ojc",
        "outputId": "3aeff750-1e2a-4376-e65b-fb04fe60ab1c"
      },
      "execution_count": 8,
      "outputs": [
        {
          "output_type": "display_data",
          "data": {
            "text/plain": [
              "<Figure size 800x600 with 1 Axes>"
            ],
            "image/png": "[encoded data removed]"
          },
          "metadata": {}
        }
      ]
    },
    {
      "cell_type": "markdown",
      "source": [
        "**DEFINISI MODEL GNN**"
      ],
      "metadata": {
        "id": "u4eXhQw94gMV"
      }
    },
    {
      "cell_type": "code",
      "source": [
        "class GCN(torch.nn.Module):\n",
        "    def __init__(self, num_features, hidden_dim, num_classes):\n",
        "        super(GCN, self).__init__()\n",
        "        self.conv1 = GCNConv(num_features, hidden_dim)\n",
        "        self.conv2 = GCNConv(hidden_dim, num_classes)\n",
        "\n",
        "    def forward(self, x, edge_index):\n",
        "        # Lapisan pertama\n",
        "        x = self.conv1(x, edge_index)\n",
        "        x = F.relu(x)\n",
        "        x = F.dropout(x, training=self.training, p=0.5)\n",
        "\n",
        "        # Lapisan kedua\n",
        "        x = self.conv2(x, edge_index)\n",
        "        return F.log_softmax(x, dim=1)"
      ],
      "metadata": {
        "id": "eTsTal7k4jgE"
      },
      "execution_count": 9,
      "outputs": []
    },
    {
      "cell_type": "markdown",
      "source": [
        "**TRAINING & EVALUATION**"
      ],
      "metadata": {
        "id": "LCyyxe5d4uw8"
      }
    },
    {
      "cell_type": "code",
      "source": [
        "device = torch.device('cuda' if torch.cuda.is_available() else 'cpu')\n",
        "model = GCN(num_features=dataset.num_features, hidden_dim=64, num_classes=dataset.num_classes).to(device)\n",
        "\n",
        "data = data.to(device)\n",
        "optimizer = torch.optim.Adam(model.parameters(), lr=0.01, weight_decay=5e-4)\n",
        "\n",
        "def train():\n",
        "    model.train()\n",
        "    optimizer.zero_grad()\n",
        "    out = model(data.x, data.edge_index)\n",
        "    loss = F.nll_loss(out[data.train_mask], data.y[data.train_mask])\n",
        "    loss.backward()\n",
        "    optimizer.step()\n",
        "    return loss.item()\n",
        "\n",
        "@torch.no_grad()\n",
        "def test():\n",
        "    model.eval()\n",
        "    out = model(data.x, data.edge_index)\n",
        "    preds = out.argmax(dim=1)\n",
        "\n",
        "    accs = []\n",
        "    for mask_name, mask in zip([\"Train\", \"Validation\", \"Test\"],\n",
        "                               [data.train_mask, data.val_mask, data.test_mask]):\n",
        "        correct = preds[mask].eq(data.y[mask]).sum().item()\n",
        "        acc = correct / mask.sum().item()\n",
        "        accs.append(acc)\n",
        "    return accs  # [train_acc, val_acc, test_acc]"
      ],
      "metadata": {
        "id": "Wzk9tMhT4yKO"
      },
      "execution_count": 10,
      "outputs": []
    },
    {
      "cell_type": "code",
      "source": [
        "print(\"===== PROSES TRAINING GCN =====\")\n",
        "for epoch in range(1, 201):\n",
        "    loss = train()\n",
        "    if epoch % 20 == 0:\n",
        "        train_acc, val_acc, test_acc = test()\n",
        "        print(f\"Epoch: {epoch:03d}, Loss: {loss:.4f}, \"\n",
        "              f\"Train Acc: {train_acc:.4f}, Val Acc: {val_acc:.4f}, Test Acc: {test_acc:.4f}\")\n",
        "\n",
        "# Final Accuracy\n",
        "train_acc, val_acc, test_acc = test()\n",
        "print(\"\\n===== HASIL AKHIR =====\")\n",
        "print(f\"Train Accuracy : {train_acc:.4f}\")\n",
        "print(f\"Val Accuracy   : {val_acc:.4f}\")\n",
        "print(f\"Test Accuracy  : {test_acc:.4f}\\n\")"
      ],
      "metadata": {
        "colab": {
          "base_uri": "https://localhost:8080/"
        },
        "id": "HdTeZvYv43Wg",
        "outputId": "9c770af7-56b8-42b8-e245-62f59db6e4f3"
      },
      "execution_count": 11,
      "outputs": [
        {
          "output_type": "stream",
          "name": "stdout",
          "text": [
            "===== PROSES TRAINING GCN =====\n",
            "Epoch: 020, Loss: 0.0037, Train Acc: 1.0000, Val Acc: 0.6780, Test Acc: 0.6830\n",
            "Epoch: 040, Loss: 0.0076, Train Acc: 1.0000, Val Acc: 0.6980, Test Acc: 0.6950\n",
            "Epoch: 060, Loss: 0.0098, Train Acc: 1.0000, Val Acc: 0.6800, Test Acc: 0.6780\n",
            "Epoch: 080, Loss: 0.0131, Train Acc: 1.0000, Val Acc: 0.6980, Test Acc: 0.6890\n",
            "Epoch: 100, Loss: 0.0098, Train Acc: 1.0000, Val Acc: 0.6820, Test Acc: 0.6760\n",
            "Epoch: 120, Loss: 0.0093, Train Acc: 1.0000, Val Acc: 0.6900, Test Acc: 0.6880\n",
            "Epoch: 140, Loss: 0.0182, Train Acc: 1.0000, Val Acc: 0.6760, Test Acc: 0.6850\n",
            "Epoch: 160, Loss: 0.0118, Train Acc: 1.0000, Val Acc: 0.6760, Test Acc: 0.6850\n",
            "Epoch: 180, Loss: 0.0067, Train Acc: 1.0000, Val Acc: 0.6800, Test Acc: 0.6720\n",
            "Epoch: 200, Loss: 0.0119, Train Acc: 1.0000, Val Acc: 0.6940, Test Acc: 0.6810\n",
            "\n",
            "===== HASIL AKHIR =====\n",
            "Train Accuracy : 1.0000\n",
            "Val Accuracy   : 0.6940\n",
            "Test Accuracy  : 0.6810\n",
            "\n"
          ]
        }
      ]
    },
    {
      "cell_type": "markdown",
      "source": [
        "**INTEGRASI LLM (HASIL)**"
      ],
      "metadata": {
        "id": "lnd0xjrt5ETy"
      }
    },
    {
      "cell_type": "code",
      "source": [
        "model_name = \"gpt2\"  # Model GPT-2 kecil\n",
        "tokenizer = AutoTokenizer.from_pretrained(model_name)\n",
        "gpt2_model = AutoModelForCausalLM.from_pretrained(model_name).to(device)\n",
        "\n",
        "def generate_summary(train_acc, val_acc, test_acc):\n",
        "    prompt_text = (\n",
        "        f\"Saya baru saja melatih model Graph Neural Network (GCN) \"\n",
        "        f\"pada dataset CiteSeer yang memiliki lebih dari 3000 node. \"\n",
        "        f\"Berikut beberapa hasil evaluasi:\\n\"\n",
        "        f\"- Akurasi data latih: {train_acc:.2f}\\n\"\n",
        "        f\"- Akurasi data validasi: {val_acc:.2f}\\n\"\n",
        "        f\"- Akurasi data uji: {test_acc:.2f}\\n\\n\"\n",
        "        f\"Ringkaskan hasil tersebut secara singkat:\"\n",
        "    )\n",
        "\n",
        "    inputs = tokenizer.encode(prompt_text, return_tensors='pt').to(device)\n",
        "    summary_ids = gpt2_model.generate(\n",
        "        inputs,\n",
        "        max_new_tokens=150, # Ubah ini kalo mau nambah jumlah output kata\n",
        "        num_beams=2,\n",
        "        no_repeat_ngram_size=2,\n",
        "        early_stopping=True\n",
        "    )\n",
        "    summary = tokenizer.decode(summary_ids[0], skip_special_tokens=True)\n",
        "    return summary"
      ],
      "metadata": {
        "id": "yMtUXSYh5Ib4"
      },
      "execution_count": 20,
      "outputs": []
    },
    {
      "cell_type": "code",
      "source": [
        "summary_result = generate_summary(train_acc, val_acc, test_acc)\n",
        "print(\"===== RINGKASAN LLM (GPT2) =====\")\n",
        "print(summary_result)"
      ],
      "metadata": {
        "colab": {
          "base_uri": "https://localhost:8080/"
        },
        "id": "d9OKodHB5O8d",
        "outputId": "6d4a00c9-82f5-4e12-f53a-57ac6188c0ed"
      },
      "execution_count": 21,
      "outputs": [
        {
          "output_type": "stream",
          "name": "stderr",
          "text": [
            "The attention mask and the pad token id were not set. As a consequence, you may observe unexpected behavior. Please pass your input's `attention_mask` to obtain reliable results.\n",
            "Setting `pad_token_id` to `eos_token_id`:50256 for open-end generation.\n"
          ]
        },
        {
          "output_type": "stream",
          "name": "stdout",
          "text": [
            "===== RINGKASAN LLM (GPT2) =====\n",
            "Saya baru saja melatih model Graph Neural Network (GCN) pada dataset CiteSeer yang memiliki lebih dari 3000 node. Berikut beberapa hasil evaluasi:\n",
            "- Akurasi data latih: 1.00\n",
            "- Akurasi data validasi: 0.69\n",
            "- Akurasi data uji: 0.68\n",
            "\n",
            "Ringkaskan hasil tersebut secara singkat:\n",
            "\n",
            "\n",
            "The first two lines of the graph are the same as the first one, but the second one is a bit different. The first line shows the number of nodes in the network, and the last one shows how many nodes have been added to it.\n",
            ". . .\n",
            "\"The network is very small, so it is not possible to get a good estimate of its size.\"\n",
            "This is because there are only a few nodes that are in a network. This means that there is no way to estimate the size of each node, which is why it takes a lot of time to add nodes to the data. In order to do this, you need to know how much time it took for the node to be added. For example,\n"
          ]
        }
      ]
    }
  ]
}